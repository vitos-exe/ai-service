{
 "cells": [
  {
   "cell_type": "markdown",
   "metadata": {
    "id": "m1c33w0fY_iJ"
   },
   "source": [
    "# Common imports"
   ]
  },
  {
   "cell_type": "code",
   "execution_count": 1,
   "metadata": {
    "executionInfo": {
     "elapsed": 3142,
     "status": "ok",
     "timestamp": 1736766331498,
     "user": {
      "displayName": "Vitaliy Chernysh",
      "userId": "02948826804726110807"
     },
     "user_tz": -60
    },
    "id": "TA27sayGr1tm"
   },
   "outputs": [],
   "source": [
    "import joblib\n",
    "from tqdm import tqdm\n",
    "import pickle\n",
    "\n",
    "import numpy as np\n",
    "import pandas as pd\n",
    "\n",
    "from sklearn import metrics\n",
    "from sklearn.model_selection import train_test_split, GridSearchCV"
   ]
  },
  {
   "cell_type": "markdown",
   "metadata": {
    "id": "3cZ-L8yt7Zm-"
   },
   "source": [
    "# Dataset loading"
   ]
  },
  {
   "cell_type": "code",
   "execution_count": 2,
   "metadata": {
    "executionInfo": {
     "elapsed": 284,
     "status": "ok",
     "timestamp": 1736766338488,
     "user": {
      "displayName": "Vitaliy Chernysh",
      "userId": "02948826804726110807"
     },
     "user_tz": -60
    },
    "id": "lNDwbafhI4iQ"
   },
   "outputs": [],
   "source": [
    "# Some necessary constants\n",
    "ROOT_PATH = \"drive/MyDrive/Навчання/6 семестр/Курсова\"\n",
    "DATASET_PATH = f\"{ROOT_PATH}/lyrics-data\"\n",
    "MODELS_PATH = f\"{ROOT_PATH}/saved-models\""
   ]
  },
  {
   "cell_type": "code",
   "execution_count": 3,
   "metadata": {
    "executionInfo": {
     "elapsed": 4,
     "status": "ok",
     "timestamp": 1736766338721,
     "user": {
      "displayName": "Vitaliy Chernysh",
      "userId": "02948826804726110807"
     },
     "user_tz": -60
    },
    "id": "jgNqlLCapF66"
   },
   "outputs": [],
   "source": [
    "def load_dataset(dataset_dir):\n",
    "    \"\"\"\n",
    "    Loads dataset from given directory.\n",
    "    Asserts that all data is split in folders named after respective class name.\n",
    "    \"\"\"\n",
    "\n",
    "    import os\n",
    "\n",
    "    for dir in os.listdir(dataset_dir):\n",
    "        dir_path = os.path.join(dataset_dir, dir)\n",
    "        for filename in tqdm(os.listdir(dir_path)):\n",
    "            file_path = os.path.join(dir_path, filename)\n",
    "            with open(file_path, \"r\", encoding=\"utf-8\") as file:\n",
    "                text = file.read()\n",
    "                if text.startswith(\"ERROR\"):\n",
    "                    continue\n",
    "                yield text.replace(\"\\n\", \" \"), dir"
   ]
  },
  {
   "cell_type": "code",
   "execution_count": null,
   "metadata": {
    "id": "9evNdSo0qygE"
   },
   "outputs": [],
   "source": [
    "texts, labels = [], []\n",
    "for text, label in load_dataset(DATASET_PATH):\n",
    "    texts.append(text)\n",
    "    labels.append(label)"
   ]
  },
  {
   "cell_type": "code",
   "execution_count": null,
   "metadata": {
    "executionInfo": {
     "elapsed": 5,
     "status": "aborted",
     "timestamp": 1736766348721,
     "user": {
      "displayName": "Vitaliy Chernysh",
      "userId": "02948826804726110807"
     },
     "user_tz": -60
    },
    "id": "wGcUtds_H7nd"
   },
   "outputs": [],
   "source": [
    "# Dumping dataset python objects for faster retrieval\n",
    "with open(f\"{MODELS_PATH}/dataset.pickle\", \"wb\") as file:\n",
    "    pickle.dump({\"texts\": texts, \"labels\": labels}, file)"
   ]
  },
  {
   "cell_type": "code",
   "execution_count": 32,
   "metadata": {
    "executionInfo": {
     "elapsed": 326,
     "status": "ok",
     "timestamp": 1736774007959,
     "user": {
      "displayName": "Vitaliy Chernysh",
      "userId": "02948826804726110807"
     },
     "user_tz": -60
    },
    "id": "cHiEeDgiITue"
   },
   "outputs": [],
   "source": [
    "# Loading dataset as python object\n",
    "with open(f\"{MODELS_PATH}/dataset.pickle\", \"rb\") as file:\n",
    "    d = pickle.load(file)\n",
    "    texts, labels = d[\"texts\"], d[\"labels\"].to_list()"
   ]
  },
  {
   "cell_type": "code",
   "execution_count": null,
   "metadata": {
    "executionInfo": {
     "elapsed": 5,
     "status": "aborted",
     "timestamp": 1736766348722,
     "user": {
      "displayName": "Vitaliy Chernysh",
      "userId": "02948826804726110807"
     },
     "user_tz": -60
    },
    "id": "YRNZtEYFLo_I"
   },
   "outputs": [],
   "source": [
    "# Plotting classes distribution\n",
    "pd.Series(labels).hist()"
   ]
  },
  {
   "cell_type": "markdown",
   "metadata": {
    "id": "oKGDOrzb7lxt"
   },
   "source": [
    "# Input data preprocessing and transformation"
   ]
  },
  {
   "cell_type": "code",
   "execution_count": 23,
   "metadata": {
    "executionInfo": {
     "elapsed": 274,
     "status": "ok",
     "timestamp": 1736773878806,
     "user": {
      "displayName": "Vitaliy Chernysh",
      "userId": "02948826804726110807"
     },
     "user_tz": -60
    },
    "id": "W0XIeqS1iJSU"
   },
   "outputs": [],
   "source": [
    "import nltk\n",
    "from nltk.corpus import wordnet\n",
    "\n",
    "from sklearn.feature_extraction.text import TfidfVectorizer\n",
    "from sklearn.preprocessing import LabelEncoder\n",
    "\n",
    "# from keras.preprocessing.text import Tokenizer\n",
    "# from keras.preprocessing.sequence import pad_sequences\n",
    "# from keras.utils import to_categorical"
   ]
  },
  {
   "cell_type": "code",
   "execution_count": null,
   "metadata": {
    "id": "lwwftZI9ruBa"
   },
   "outputs": [],
   "source": [
    "nltk.download(\"stopwords\")\n",
    "nltk.download(\"punkt\")\n",
    "nltk.download(\"wordnet\")\n",
    "\n",
    "stopwords = nltk.corpus.stopwords.words(\"english\")\n",
    "lemmatizer = nltk.WordNetLemmatizer()"
   ]
  },
  {
   "cell_type": "code",
   "execution_count": null,
   "metadata": {
    "id": "w-zfbQCWw1gD"
   },
   "outputs": [],
   "source": [
    "# Function for cleaning and preprocessing input data with the following steps:\n",
    "# - Transforming to lowercase\n",
    "# - Tokenizing by word\n",
    "# - Removing stopwords\n",
    "# - Remaining only words that are alphabetic\n",
    "# - Lemmatazing words\n",
    "\n",
    "\n",
    "def preprocess(text):\n",
    "    lower_case = text.lower()\n",
    "    tokens = nltk.word_tokenize(lower_case)\n",
    "    without_stopwords = [w for w in tokens if w not in stopwords]\n",
    "    alphabetic_only = [w for w in without_stopwords if w.isalpha()]\n",
    "    lemmatized = [lemmatizer.lemmatize(w) for w in alphabetic_only]\n",
    "    return lemmatized"
   ]
  },
  {
   "cell_type": "code",
   "execution_count": 89,
   "metadata": {
    "executionInfo": {
     "elapsed": 6564,
     "status": "ok",
     "timestamp": 1736526782071,
     "user": {
      "displayName": "Vitaliy Chernysh",
      "userId": "02948826804726110807"
     },
     "user_tz": -60
    },
    "id": "yGNOLwVVlFm_"
   },
   "outputs": [],
   "source": [
    "# Creating preprocessed texts for future use and getting the length of the longest text\n",
    "\n",
    "processed_texts = [preprocess(t) for t in texts]\n",
    "max_len = len(max(processed_texts, key=len))"
   ]
  },
  {
   "cell_type": "code",
   "execution_count": 35,
   "metadata": {
    "colab": {
     "base_uri": "https://localhost:8080/"
    },
    "executionInfo": {
     "elapsed": 182,
     "status": "ok",
     "timestamp": 1736774031547,
     "user": {
      "displayName": "Vitaliy Chernysh",
      "userId": "02948826804726110807"
     },
     "user_tz": -60
    },
    "id": "3LCAKWlJye1E",
    "outputId": "0cfec311-7af3-4f09-a4ab-13177c7aef7f"
   },
   "outputs": [
    {
     "data": {
      "text/plain": [
       "array([2, 2, 2, ..., 1, 1, 1])"
      ]
     },
     "execution_count": 35,
     "metadata": {},
     "output_type": "execute_result"
    }
   ],
   "source": [
    "le = LabelEncoder()\n",
    "y = le.fit_transform(labels)\n",
    "y"
   ]
  },
  {
   "cell_type": "code",
   "execution_count": null,
   "metadata": {
    "id": "T50uoFpqyOLb"
   },
   "outputs": [],
   "source": [
    "# Converting labels to numerical values\n",
    "le = LabelEncoder()\n",
    "y = le.fit_transform(labels)\n",
    "y_one_hot = to_categorical(y)"
   ]
  },
  {
   "cell_type": "code",
   "execution_count": 91,
   "metadata": {
    "executionInfo": {
     "elapsed": 12280,
     "status": "ok",
     "timestamp": 1736527780170,
     "user": {
      "displayName": "Vitaliy Chernysh",
      "userId": "02948826804726110807"
     },
     "user_tz": -60
    },
    "id": "0n8JgZqblI-L"
   },
   "outputs": [],
   "source": [
    "# Converting texts to TF-IDF representation\n",
    "\n",
    "tf_idf = TfidfVectorizer(analyzer=preprocess)\n",
    "X_tf_idf = tf_idf.fit_transform(texts).toarray()\n",
    "\n",
    "X_tf_idf_train, X_tf_idf_test, y_train, y_test = train_test_split(\n",
    "    X_tf_idf, y, test_size=0.25, random_state=42\n",
    ")"
   ]
  },
  {
   "cell_type": "code",
   "execution_count": null,
   "metadata": {
    "id": "9IKvJDmz4vsl"
   },
   "outputs": [],
   "source": [
    "# Converting texts to one hot encodings\n",
    "\n",
    "tokenizer = Tokenizer(oov_token=\"<OOV>\")\n",
    "tokenizer.fit_on_sequences(processed_texts)\n",
    "vocabulary_size = len(tokenizer.index_docs) + 1\n",
    "\n",
    "X_one_hot = np.array(\n",
    "    [\n",
    "        [tokenizer.index_docs[w] for w in t] + ([0] * (max_len - len(t)))\n",
    "        for t in processed_texts\n",
    "    ]\n",
    ")\n",
    "\n",
    "X_train_one_hot, X_test_one_hot, y_train_one_hot, y_test_one_hot = train_test_split(\n",
    "    X_one_hot, y_one_hot, test_size=0.25, random_state=42\n",
    ")"
   ]
  },
  {
   "cell_type": "markdown",
   "metadata": {
    "id": "fcLbRJCJyB_r"
   },
   "source": [
    "## Word cloud"
   ]
  },
  {
   "cell_type": "code",
   "execution_count": null,
   "metadata": {
    "id": "2nBX42jMh_C5"
   },
   "outputs": [],
   "source": [
    "# Creating a word cloud of all tokens\n",
    "\n",
    "from wordcloud import WordCloud\n",
    "import matplotlib.pyplot as plt\n",
    "\n",
    "text = \" \".join([\" \".join(t) for t in processed_texts])\n",
    "\n",
    "wordcloud = WordCloud(background_color=\"white\").generate(text)\n",
    "\n",
    "plt.figure(figsize=(8, 6))\n",
    "plt.imshow(wordcloud, interpolation=\"bilinear\")\n",
    "plt.axis(\"off\")\n",
    "plt.show()"
   ]
  },
  {
   "cell_type": "markdown",
   "metadata": {
    "id": "zPfPuoaxsui6"
   },
   "source": [
    "# Utilities"
   ]
  },
  {
   "cell_type": "code",
   "execution_count": null,
   "metadata": {
    "id": "LofiRWrlsxCz"
   },
   "outputs": [],
   "source": [
    "# Simple utility function to evaluate estimator\n",
    "\n",
    "import seaborn as sns\n",
    "from sklearn.preprocessing import LabelBinarizer\n",
    "from sklearn.metrics import RocCurveDisplay\n",
    "from itertools import cycle\n",
    "from matplotlib import pyplot as plt\n",
    "\n",
    "\n",
    "def evaluate_estimator(estimator, X, y, preds_one_hot=False, history=None):\n",
    "    preds_one_hot = (\n",
    "        estimator.predict(X) if preds_one_hot else estimator.predict_proba(X_test)\n",
    "    )\n",
    "    preds = np.argmax(preds_one_hot, axis=1)\n",
    "    y_binazed = LabelBinarizer().fit_transform(y)\n",
    "\n",
    "    fig, ax = plt.subplots(figsize=(6, 6))\n",
    "    colors = cycle([\"aqua\", \"darkorange\", \"cornflowerblue\", \"green\"])\n",
    "    for i in range(4):\n",
    "        display = RocCurveDisplay.from_predictions(\n",
    "            y_binazed[:, i],\n",
    "            preds_one_hot[:, i],\n",
    "            name=f\"{le.classes_[i].title()} vs the rest\",\n",
    "            color=next(colors),\n",
    "            ax=ax,\n",
    "        )\n",
    "    _ = display.ax_.set(\n",
    "        xlabel=\"False Positive Rate\",\n",
    "        ylabel=\"True Positive Rate\",\n",
    "    )\n",
    "    plt.show()\n",
    "\n",
    "    clf_report = metrics.classification_report(\n",
    "        y, preds, target_names=le.classes_, output_dict=True\n",
    "    )\n",
    "    sns.heatmap(pd.DataFrame(clf_report).iloc[:-1, :].T, annot=True)\n",
    "\n",
    "    disp = metrics.ConfusionMatrixDisplay.from_predictions(\n",
    "        y, preds, display_labels=le.classes_\n",
    "    )\n",
    "    plt.show()\n",
    "\n",
    "    if history is None:\n",
    "        return\n",
    "\n",
    "    loss = history[\"loss\"]\n",
    "    val_loss = history[\"val_loss\"]\n",
    "    accuracy = history[\"accuracy\"]\n",
    "    val_accuracy = history[\"val_accuracy\"]\n",
    "    epochs = range(1, len(loss) + 1)\n",
    "\n",
    "    # Plotting the loss curves\n",
    "    plt.figure(figsize=(12, 5))\n",
    "\n",
    "    plt.subplot(1, 2, 1)\n",
    "    plt.plot(epochs, loss, \"r\", label=\"Training Loss\")\n",
    "    plt.plot(epochs, val_loss, \"b\", label=\"Validation Loss\")\n",
    "    plt.title(\"Training and Validation Loss\")\n",
    "    plt.xlabel(\"Epochs\")\n",
    "    plt.ylabel(\"Loss\")\n",
    "    plt.legend()\n",
    "\n",
    "    # Plotting the accuracy curves\n",
    "    plt.subplot(1, 2, 2)\n",
    "    plt.plot(epochs, accuracy, \"r\", label=\"Training Accuracy\")\n",
    "    plt.plot(epochs, val_accuracy, \"b\", label=\"Validation Accuracy\")\n",
    "    plt.title(\"Training and Validation Accuracy\")\n",
    "    plt.xlabel(\"Epochs\")\n",
    "    plt.ylabel(\"Accuracy\")\n",
    "    plt.legend()\n",
    "\n",
    "    plt.tight_layout()\n",
    "    plt.show()"
   ]
  },
  {
   "cell_type": "markdown",
   "metadata": {
    "id": "S44qK4OzjSvY"
   },
   "source": [
    "# Naive Bayes"
   ]
  },
  {
   "cell_type": "code",
   "execution_count": null,
   "metadata": {
    "id": "OEYlpGNOvBau"
   },
   "outputs": [],
   "source": [
    "naive_bayers_cv_model_path = f\"{MODELS_PATH}/naive-bayes-grid-search-cv.pkl\""
   ]
  },
  {
   "cell_type": "code",
   "execution_count": null,
   "metadata": {
    "id": "Dlw27fysjbIm"
   },
   "outputs": [],
   "source": [
    "from sklearn.naive_bayes import GaussianNB\n",
    "\n",
    "naive_bayes = GaussianNB()\n",
    "\n",
    "param_grid = {\"var_smoothing\": [1e-9, 1e-8, 1e-7]}\n",
    "\n",
    "nb_cv = GridSearchCV(naive_bayes, param_grid)\n",
    "nb_cv.fit(X_train, y_train)\n",
    "\n",
    "joblib.dump(nb_cv, naive_bayers_cv_model_path)"
   ]
  },
  {
   "cell_type": "code",
   "execution_count": null,
   "metadata": {
    "colab": {
     "base_uri": "https://localhost:8080/",
     "height": 173
    },
    "executionInfo": {
     "elapsed": 1073,
     "status": "error",
     "timestamp": 1715238498419,
     "user": {
      "displayName": "Vitaliy Chernysh",
      "userId": "02948826804726110807"
     },
     "user_tz": -120
    },
    "id": "vDSz1OpFvRfg",
    "outputId": "25ea1682-b52b-4f9c-a377-fbbd2e2e758c"
   },
   "outputs": [
    {
     "ename": "NameError",
     "evalue": "name 'evaluate_estimator' is not defined",
     "output_type": "error",
     "traceback": [
      "\u001b[0;31m---------------------------------------------------------------------------\u001b[0m",
      "\u001b[0;31mNameError\u001b[0m                                 Traceback (most recent call last)",
      "\u001b[0;32m<ipython-input-5-6f3ef72a6c8f>\u001b[0m in \u001b[0;36m<cell line: 5>\u001b[0;34m()\u001b[0m\n\u001b[1;32m      3\u001b[0m \u001b[0mbest_nb\u001b[0m \u001b[0;34m=\u001b[0m \u001b[0mcv\u001b[0m\u001b[0;34m.\u001b[0m\u001b[0mbest_estimator_\u001b[0m\u001b[0;34m\u001b[0m\u001b[0;34m\u001b[0m\u001b[0m\n\u001b[1;32m      4\u001b[0m \u001b[0;34m\u001b[0m\u001b[0m\n\u001b[0;32m----> 5\u001b[0;31m \u001b[0mevaluate_estimator\u001b[0m\u001b[0;34m(\u001b[0m\u001b[0mbest_nb\u001b[0m\u001b[0;34m,\u001b[0m \u001b[0mX_tf_idf_test\u001b[0m\u001b[0;34m,\u001b[0m \u001b[0my_test\u001b[0m\u001b[0;34m)\u001b[0m\u001b[0;34m\u001b[0m\u001b[0;34m\u001b[0m\u001b[0m\n\u001b[0m",
      "\u001b[0;31mNameError\u001b[0m: name 'evaluate_estimator' is not defined"
     ]
    }
   ],
   "source": [
    "cv = joblib.load(naive_bayers_cv_model_path)\n",
    "\n",
    "best_nb = cv.best_estimator_\n",
    "\n",
    "evaluate_estimator(best_nb, X_tf_idf_test, y_test)"
   ]
  },
  {
   "cell_type": "code",
   "execution_count": null,
   "metadata": {
    "colab": {
     "base_uri": "https://localhost:8080/"
    },
    "executionInfo": {
     "elapsed": 573,
     "status": "ok",
     "timestamp": 1715238509416,
     "user": {
      "displayName": "Vitaliy Chernysh",
      "userId": "02948826804726110807"
     },
     "user_tz": -120
    },
    "id": "Uf4dsT59Lno7",
    "outputId": "0a84a270-dd02-4647-a2ed-6565812f5282"
   },
   "outputs": [
    {
     "data": {
      "text/plain": [
       "{'var_smoothing': 1e-07}"
      ]
     },
     "execution_count": 6,
     "metadata": {},
     "output_type": "execute_result"
    }
   ],
   "source": [
    "cv.best_params_"
   ]
  },
  {
   "cell_type": "markdown",
   "metadata": {
    "id": "fwVd5AEp-jR7"
   },
   "source": [
    "# Random forest"
   ]
  },
  {
   "cell_type": "code",
   "execution_count": null,
   "metadata": {
    "id": "7E-BCEqtsoKM"
   },
   "outputs": [],
   "source": [
    "random_forest_cv_model_path = f\"{MODELS_PATH}/random-forest-grid-search-cv.pkl\""
   ]
  },
  {
   "cell_type": "code",
   "execution_count": null,
   "metadata": {
    "id": "CyZ86jxIB1LG"
   },
   "outputs": [],
   "source": [
    "from sklearn.ensemble import RandomForestClassifier\n",
    "\n",
    "rf = RandomForestClassifier()\n",
    "param_grid = {\n",
    "    \"n_estimators\": [50, 100, 200],\n",
    "    \"max_depth\": [None, 10, 20],\n",
    "    \"min_samples_split\": [2, 5, 10],\n",
    "    \"min_samples_leaf\": [1, 2, 4],\n",
    "}\n",
    "\n",
    "rf_cv = GridSearchCV(rf, param_grid)\n",
    "rf_cv.fit(X_train, y_train)\n",
    "\n",
    "joblib.dump(rf_cv, random_forest_cv_model_path)"
   ]
  },
  {
   "cell_type": "code",
   "execution_count": null,
   "metadata": {
    "colab": {
     "base_uri": "https://localhost:8080/",
     "height": 173
    },
    "executionInfo": {
     "elapsed": 447,
     "status": "error",
     "timestamp": 1715239170138,
     "user": {
      "displayName": "Vitaliy Chernysh",
      "userId": "02948826804726110807"
     },
     "user_tz": -120
    },
    "id": "GSIQycfYD9Qt",
    "outputId": "4a77f425-39ee-49b5-9ee8-0f5a17e4cf9c"
   },
   "outputs": [
    {
     "ename": "NameError",
     "evalue": "name 'evaluate_estimator' is not defined",
     "output_type": "error",
     "traceback": [
      "\u001b[0;31m---------------------------------------------------------------------------\u001b[0m",
      "\u001b[0;31mNameError\u001b[0m                                 Traceback (most recent call last)",
      "\u001b[0;32m<ipython-input-9-c3d350234366>\u001b[0m in \u001b[0;36m<cell line: 5>\u001b[0;34m()\u001b[0m\n\u001b[1;32m      3\u001b[0m \u001b[0mbest_rf\u001b[0m \u001b[0;34m=\u001b[0m \u001b[0mrf_cv\u001b[0m\u001b[0;34m.\u001b[0m\u001b[0mbest_estimator_\u001b[0m\u001b[0;34m\u001b[0m\u001b[0;34m\u001b[0m\u001b[0m\n\u001b[1;32m      4\u001b[0m \u001b[0;34m\u001b[0m\u001b[0m\n\u001b[0;32m----> 5\u001b[0;31m \u001b[0mevaluate_estimator\u001b[0m\u001b[0;34m(\u001b[0m\u001b[0mbest_rf\u001b[0m\u001b[0;34m,\u001b[0m \u001b[0mX_tf_idf_test\u001b[0m\u001b[0;34m,\u001b[0m \u001b[0my_test\u001b[0m\u001b[0;34m)\u001b[0m\u001b[0;34m\u001b[0m\u001b[0;34m\u001b[0m\u001b[0m\n\u001b[0m",
      "\u001b[0;31mNameError\u001b[0m: name 'evaluate_estimator' is not defined"
     ]
    }
   ],
   "source": [
    "rf_cv = joblib.load(random_forest_cv_model_path)\n",
    "\n",
    "best_rf = rf_cv.best_estimator_\n",
    "\n",
    "evaluate_estimator(best_rf, X_tf_idf_test, y_test)"
   ]
  },
  {
   "cell_type": "code",
   "execution_count": null,
   "metadata": {
    "colab": {
     "base_uri": "https://localhost:8080/"
    },
    "executionInfo": {
     "elapsed": 570,
     "status": "ok",
     "timestamp": 1715239177967,
     "user": {
      "displayName": "Vitaliy Chernysh",
      "userId": "02948826804726110807"
     },
     "user_tz": -120
    },
    "id": "exuejlv_OHN9",
    "outputId": "63a8a4c9-3342-4d3c-f483-15f10979d26c"
   },
   "outputs": [
    {
     "data": {
      "text/plain": [
       "{'max_depth': None,\n",
       " 'min_samples_leaf': 2,\n",
       " 'min_samples_split': 10,\n",
       " 'n_estimators': 100}"
      ]
     },
     "execution_count": 11,
     "metadata": {},
     "output_type": "execute_result"
    }
   ],
   "source": [
    "rf_cv.best_params_"
   ]
  },
  {
   "cell_type": "code",
   "execution_count": null,
   "metadata": {
    "id": "vFHd52nQw4Yn"
   },
   "outputs": [],
   "source": [
    "from sklearn.preprocessing import LabelBinarizer\n",
    "\n",
    "label_binarizer = LabelBinarizer().fit(y_train)\n",
    "y_binazed_test = label_binarizer.transform(y_test)\n",
    "y_binazed_test.shape"
   ]
  },
  {
   "cell_type": "code",
   "execution_count": null,
   "metadata": {
    "cellView": "form",
    "id": "uXCIBDnfJ0SK"
   },
   "outputs": [],
   "source": [
    "# @title\n",
    "feat_importances = pd.Series(\n",
    "    best_rf.feature_importances_, index=tf_idf.get_feature_names_out()\n",
    ")\n",
    "feat_importances.nlargest(20).plot(kind=\"bar\", figsize=(10, 10))\n",
    "plt.title(\"Top 20 important features\")\n",
    "plt.show()"
   ]
  },
  {
   "cell_type": "markdown",
   "metadata": {
    "id": "BgzoicyKvmfT"
   },
   "source": [
    "# Dense Neural Networks"
   ]
  },
  {
   "cell_type": "code",
   "execution_count": null,
   "metadata": {
    "id": "4S5FzK74xf_h"
   },
   "outputs": [],
   "source": [
    "from keras.models import Sequential, load_model\n",
    "from keras.layers import Dense, Dropout"
   ]
  },
  {
   "cell_type": "code",
   "execution_count": null,
   "metadata": {
    "id": "RVutQSOpRUUf"
   },
   "outputs": [],
   "source": [
    "def create_dnn(input_shape, units, optimizer=\"adam\"):\n",
    "    model = Sequential(\n",
    "        [\n",
    "            Dense(units[0], activation=\"relu\", input_shape=(input_shape,)),\n",
    "            Dropout(0.3),\n",
    "            Dense(units[1], activation=\"relu\"),\n",
    "            Dropout(0.3),\n",
    "            Dense(le.classes_.shape[0], activation=\"softmax\"),\n",
    "        ]\n",
    "    )\n",
    "\n",
    "    model.compile(\n",
    "        optimizer=optimizer, loss=\"categorical_crossentropy\", metrics=[\"accuracy\"]\n",
    "    )\n",
    "\n",
    "    print(model.summary())\n",
    "\n",
    "    return model"
   ]
  },
  {
   "cell_type": "markdown",
   "metadata": {
    "id": "SjeJfyfnxHYn"
   },
   "source": [
    "## Using TF-IDF"
   ]
  },
  {
   "cell_type": "code",
   "execution_count": null,
   "metadata": {
    "id": "FvX2H25L0tjK"
   },
   "outputs": [],
   "source": [
    "tf_idf_dnn_binary_path = f\"{MODELS_PATH}/tf-idf-dnn-binary.h5\"\n",
    "tf_idf_dnn_history_path = f\"{MODELS_PATH}/tf-idf-dnn-history.pickle\""
   ]
  },
  {
   "cell_type": "code",
   "execution_count": null,
   "metadata": {
    "id": "L8GenBykxK4H"
   },
   "outputs": [],
   "source": [
    "tfidf_dnn_model = create_dnn(X_tf_idf_train.shape[1], [128, 64])\n",
    "\n",
    "history = tfidf_dnn_model.fit(\n",
    "    X_tf_idf_train, y_train_one_hot, epochs=8, batch_size=32, validation_split=0.25\n",
    ")\n",
    "\n",
    "tfidf_dnn_model.save(tf_idf_dnn_binary_path)\n",
    "with open(tf_idf_dnn_history_path, \"wb\") as file:\n",
    "    pickle.dump(history.history, file)"
   ]
  },
  {
   "cell_type": "code",
   "execution_count": null,
   "metadata": {
    "id": "EqZSRXvOx3tm"
   },
   "outputs": [],
   "source": [
    "model = load_model(tf_idf_dnn_binary_path)\n",
    "with open(tf_idf_dnn_history_path, \"rb\") as file:\n",
    "    history = pickle.load(file)\n",
    "\n",
    "evaluate_estimator(model, X_tf_idf_test, y_test, preds_one_hot=True, history=history)"
   ]
  },
  {
   "cell_type": "markdown",
   "metadata": {
    "id": "yfnRwBNKAhws"
   },
   "source": [
    "## Using Doc2Vec"
   ]
  },
  {
   "cell_type": "code",
   "execution_count": null,
   "metadata": {
    "id": "5iT3Tn4sLclt"
   },
   "outputs": [],
   "source": [
    "from gensim.models.doc2vec import Doc2Vec, TaggedDocument"
   ]
  },
  {
   "cell_type": "code",
   "execution_count": null,
   "metadata": {
    "id": "thplnTI1DU4u"
   },
   "outputs": [],
   "source": [
    "doc2vec_binary_path = f\"{MODELS_PATH}/doc2vec.model\"\n",
    "doc2vec_dnn_binary_path = f\"{MODELS_PATH}/doc2vec-dnn-binary.h5\"\n",
    "doc2vec_dnn_history_path = f\"{MODELS_PATH}/doc2vec-dnn-history.pickle\""
   ]
  },
  {
   "cell_type": "code",
   "execution_count": null,
   "metadata": {
    "id": "KuLmtgBZAk9u"
   },
   "outputs": [],
   "source": [
    "tagged_documents = [\n",
    "    TaggedDocument(words=preprocess(text), tags=[i]) for i, text in enumerate(texts)\n",
    "]\n",
    "\n",
    "word2vec_model = Doc2Vec(vector_size=128, min_count=2, epochs=16)\n",
    "word2vec_model.build_vocab(tagged_documents)\n",
    "word2vec_model.train(\n",
    "    tagged_documents,\n",
    "    total_examples=word2vec_model.corpus_count,\n",
    "    epochs=word2vec_model.epochs,\n",
    ")\n",
    "\n",
    "word2vec_model.save(doc2vec_binary_path)"
   ]
  },
  {
   "cell_type": "code",
   "execution_count": null,
   "metadata": {
    "id": "CJV26KLVEglw"
   },
   "outputs": [],
   "source": [
    "word2vec_model = Doc2Vec.load(doc2vec_binary_path)\n",
    "\n",
    "X_doc2vec = np.array([word2vec_model.infer_vector(preprocess(t)) for t in texts])\n",
    "\n",
    "X_train_doc2vec, X_test_doc2vec, y_train_one_hot, y_test_one_hot = train_test_split(\n",
    "    X_doc2vec, y_one_hot, test_size=0.3, random_state=42\n",
    ")"
   ]
  },
  {
   "cell_type": "code",
   "execution_count": null,
   "metadata": {
    "id": "G93kQnZTGyU5"
   },
   "outputs": [],
   "source": [
    "doc2vec_dnn_model = create_dnn(X_train_doc2vec.shape[1], [256, 128], \"rmsprop\")\n",
    "\n",
    "history = doc2vec_dnn_model.fit(\n",
    "    X_train_doc2vec, y_train_one_hot, epochs=16, batch_size=32, validation_split=0.25\n",
    ")\n",
    "\n",
    "doc2vec_dnn_model.save(doc2vec_dnn_binary_path)\n",
    "with open(doc2vec_dnn_history_path, \"wb\") as file:\n",
    "    pickle.dump(history.history, file)"
   ]
  },
  {
   "cell_type": "code",
   "execution_count": null,
   "metadata": {
    "id": "F5rLd5Y0HJ53"
   },
   "outputs": [],
   "source": [
    "X_test_doc2vec.shape, np.argmax(y_test_one_hot, axis=1).shape"
   ]
  },
  {
   "cell_type": "code",
   "execution_count": null,
   "metadata": {
    "id": "WpWi-Gh6QYp-"
   },
   "outputs": [],
   "source": [
    "model = load_model(doc2vec_dnn_binary_path)\n",
    "with open(doc2vec_dnn_history_path, \"rb\") as file:\n",
    "    history = pickle.load(file)\n",
    "\n",
    "evaluate_estimator(\n",
    "    model,\n",
    "    X_test_doc2vec,\n",
    "    np.argmax(y_test_one_hot, axis=1),\n",
    "    preds_one_hot=True,\n",
    "    history=history,\n",
    ")"
   ]
  },
  {
   "cell_type": "markdown",
   "metadata": {
    "id": "tnZTT3qryFi5"
   },
   "source": [
    "# LSTM"
   ]
  },
  {
   "cell_type": "code",
   "execution_count": null,
   "metadata": {
    "id": "j-5yMXubF2bq"
   },
   "outputs": [],
   "source": [
    "lstm_binary_path = f\"{MODELS_PATH}/lstm-binary.h5\"\n",
    "lstm_history_path = f\"{MODELS_PATH}/lstm-history.pickle\""
   ]
  },
  {
   "cell_type": "code",
   "execution_count": null,
   "metadata": {
    "id": "Pgryf6_a7Jul"
   },
   "outputs": [],
   "source": [
    "import re\n",
    "\n",
    "lemmatizer = nltk.WordNetLemmatizer()\n",
    "\n",
    "\n",
    "def datacleaning(text):\n",
    "    text = text.replace(\"\\n\", \" \").lower()\n",
    "    whitespace = re.compile(r\"\\s+\")\n",
    "    user = re.compile(r\"(?i)@[a-z0-9_]+\")\n",
    "    text = whitespace.sub(\" \", text)\n",
    "    text = user.sub(\"\", text)\n",
    "    text = re.sub(r\"\\[[^()]*\\]\", \"\", text)\n",
    "    text = re.sub(\"\\d+\", \"\", text)\n",
    "    text = re.sub(r\"[^\\w\\s]\", \"\", text)\n",
    "    text = re.sub(r\"(?:@\\S*|#\\S*|http(?=.*://)\\S*)\", \"\", text)\n",
    "\n",
    "    text = [word for word in text.split() if word not in list(stopwords)]\n",
    "\n",
    "    return \" \".join(lemmatizer.lemmatize(w, \"v\") for w in text)"
   ]
  },
  {
   "cell_type": "code",
   "execution_count": null,
   "metadata": {
    "colab": {
     "base_uri": "https://localhost:8080/"
    },
    "executionInfo": {
     "elapsed": 4863,
     "status": "ok",
     "timestamp": 1715104529822,
     "user": {
      "displayName": "Vitaliy Chernysh",
      "userId": "02948826804726110807"
     },
     "user_tz": -120
    },
    "id": "MMRJRJIr7Z5f",
    "outputId": "09a4d753-b58b-464c-c2b2-6ee5e10e5546"
   },
   "outputs": [
    {
     "name": "stdout",
     "output_type": "stream",
     "text": [
      "Length of word index: 11897\n"
     ]
    }
   ],
   "source": [
    "# one hot encoding using keras tokenizer and pad sequencing\n",
    "X = [preprocess(t) for t in texts]\n",
    "encoder = LabelEncoder()\n",
    "y = encoder.fit_transform(labels)\n",
    "\n",
    "X_train, X_test, y_train, y_test = train_test_split(X, y, test_size=0.20)\n",
    "\n",
    "tokenizer = Tokenizer(oov_token=\"<00V>\")\n",
    "tokenizer.fit_on_texts(X_train)\n",
    "\n",
    "train_seq = tokenizer.texts_to_sequences(X_train)\n",
    "train_padseq = pad_sequences(train_seq, maxlen=256)\n",
    "\n",
    "test_seq = tokenizer.texts_to_sequences(X_test)\n",
    "test_padseq = pad_sequences(test_seq, maxlen=256)\n",
    "\n",
    "word_index = tokenizer.word_index\n",
    "total_words = len(word_index)\n",
    "maxlen = 256  # max length of sequence\n",
    "y_train = to_categorical(y_train, num_classes=4)\n",
    "y_test = to_categorical(y_test, num_classes=4)\n",
    "print(\"Length of word index:\", total_words)"
   ]
  },
  {
   "cell_type": "code",
   "execution_count": null,
   "metadata": {
    "colab": {
     "base_uri": "https://localhost:8080/"
    },
    "executionInfo": {
     "elapsed": 538,
     "status": "ok",
     "timestamp": 1715104589158,
     "user": {
      "displayName": "Vitaliy Chernysh",
      "userId": "02948826804726110807"
     },
     "user_tz": -120
    },
    "id": "mJ6qJFtqMt9j",
    "outputId": "c78a9f78-fdb4-4a67-a136-d4f61c6c64ab"
   },
   "outputs": [
    {
     "data": {
      "text/plain": [
       "(472, 256)"
      ]
     },
     "execution_count": 82,
     "metadata": {},
     "output_type": "execute_result"
    }
   ],
   "source": [
    "test_padseq.shape"
   ]
  },
  {
   "cell_type": "code",
   "execution_count": null,
   "metadata": {
    "colab": {
     "base_uri": "https://localhost:8080/"
    },
    "executionInfo": {
     "elapsed": 1250,
     "status": "ok",
     "timestamp": 1715103640847,
     "user": {
      "displayName": "Vitaliy Chernysh",
      "userId": "02948826804726110807"
     },
     "user_tz": -120
    },
    "id": "3VYyt7UG7fRP",
    "outputId": "9a0458ce-945d-4c3a-e47f-3e822820607f"
   },
   "outputs": [
    {
     "name": "stderr",
     "output_type": "stream",
     "text": [
      "WARNING:tensorflow:Layer lstm_19 will not use cuDNN kernels since it doesn't meet the criteria. It will use a generic GPU kernel as fallback when running on GPU.\n",
      "WARNING:tensorflow:Layer lstm_19 will not use cuDNN kernels since it doesn't meet the criteria. It will use a generic GPU kernel as fallback when running on GPU.\n",
      "WARNING:tensorflow:Layer lstm_19 will not use cuDNN kernels since it doesn't meet the criteria. It will use a generic GPU kernel as fallback when running on GPU.\n",
      "WARNING:tensorflow:Layer lstm_20 will not use cuDNN kernels since it doesn't meet the criteria. It will use a generic GPU kernel as fallback when running on GPU.\n",
      "WARNING:tensorflow:Layer lstm_20 will not use cuDNN kernels since it doesn't meet the criteria. It will use a generic GPU kernel as fallback when running on GPU.\n",
      "WARNING:tensorflow:Layer lstm_20 will not use cuDNN kernels since it doesn't meet the criteria. It will use a generic GPU kernel as fallback when running on GPU.\n"
     ]
    }
   ],
   "source": [
    "# basline model using embedding layers and simpleRNN\n",
    "lstm = Sequential()\n",
    "lstm.add(Embedding(total_words, 128, input_length=maxlen))\n",
    "lstm.add(\n",
    "    Bidirectional(\n",
    "        LSTM(\n",
    "            64,\n",
    "            dropout=0.1,\n",
    "            recurrent_dropout=0.20,\n",
    "            activation=\"tanh\",\n",
    "            return_sequences=True,\n",
    "        )\n",
    "    )\n",
    ")\n",
    "lstm.add(\n",
    "    Bidirectional(\n",
    "        LSTM(\n",
    "            64,\n",
    "            dropout=0.1,\n",
    "            recurrent_dropout=0.30,\n",
    "            activation=\"tanh\",\n",
    "            return_sequences=False,\n",
    "        )\n",
    "    )\n",
    ")\n",
    "lstm.add(Dropout(0.2))\n",
    "lstm.add(Dense(4, activation=\"softmax\"))"
   ]
  },
  {
   "cell_type": "code",
   "execution_count": null,
   "metadata": {
    "colab": {
     "base_uri": "https://localhost:8080/"
    },
    "executionInfo": {
     "elapsed": 474732,
     "status": "ok",
     "timestamp": 1715104118618,
     "user": {
      "displayName": "Vitaliy Chernysh",
      "userId": "02948826804726110807"
     },
     "user_tz": -120
    },
    "id": "LIm7NCcs7nTV",
    "outputId": "387fe57b-1ffa-4cdc-a83e-7d7d80066270"
   },
   "outputs": [
    {
     "name": "stdout",
     "output_type": "stream",
     "text": [
      "Epoch 1/15\n",
      "12/12 [==============================] - 43s 3s/step - loss: 1.3528 - accuracy: 0.3044 - val_loss: 1.1743 - val_accuracy: 0.5159\n",
      "Epoch 2/15\n",
      "12/12 [==============================] - 31s 3s/step - loss: 1.0830 - accuracy: 0.4894 - val_loss: 0.9570 - val_accuracy: 0.5238\n",
      "Epoch 3/15\n",
      "12/12 [==============================] - 31s 3s/step - loss: 0.8783 - accuracy: 0.5710 - val_loss: 0.9018 - val_accuracy: 0.5635\n",
      "Epoch 4/15\n",
      "12/12 [==============================] - 31s 3s/step - loss: 0.7985 - accuracy: 0.6333 - val_loss: 0.8878 - val_accuracy: 0.6217\n",
      "Epoch 5/15\n",
      "12/12 [==============================] - 31s 3s/step - loss: 0.6758 - accuracy: 0.7182 - val_loss: 0.7526 - val_accuracy: 0.6667\n",
      "Epoch 6/15\n",
      "12/12 [==============================] - 31s 3s/step - loss: 0.4893 - accuracy: 0.8309 - val_loss: 0.6262 - val_accuracy: 0.7963\n",
      "Epoch 7/15\n",
      "12/12 [==============================] - 31s 3s/step - loss: 0.3400 - accuracy: 0.9045 - val_loss: 0.5482 - val_accuracy: 0.7937\n",
      "Epoch 8/15\n",
      "12/12 [==============================] - 31s 3s/step - loss: 0.1934 - accuracy: 0.9542 - val_loss: 0.5807 - val_accuracy: 0.8122\n",
      "Epoch 9/15\n",
      "12/12 [==============================] - 31s 3s/step - loss: 0.1355 - accuracy: 0.9649 - val_loss: 0.8171 - val_accuracy: 0.7672\n",
      "Epoch 10/15\n",
      "12/12 [==============================] - 31s 3s/step - loss: 0.1349 - accuracy: 0.9715 - val_loss: 0.5694 - val_accuracy: 0.8148\n",
      "Epoch 11/15\n",
      "12/12 [==============================] - 31s 3s/step - loss: 0.2258 - accuracy: 0.9549 - val_loss: 0.7157 - val_accuracy: 0.7778\n",
      "Epoch 12/15\n",
      "12/12 [==============================] - 31s 3s/step - loss: 0.0713 - accuracy: 0.9881 - val_loss: 0.5325 - val_accuracy: 0.8254\n",
      "Epoch 13/15\n",
      "12/12 [==============================] - 31s 3s/step - loss: 0.0452 - accuracy: 0.9940 - val_loss: 0.5307 - val_accuracy: 0.8386\n",
      "Epoch 14/15\n",
      "12/12 [==============================] - 31s 3s/step - loss: 0.0359 - accuracy: 0.9960 - val_loss: 0.6402 - val_accuracy: 0.8413\n",
      "Epoch 15/15\n",
      "12/12 [==============================] - 31s 3s/step - loss: 0.0837 - accuracy: 0.9821 - val_loss: 0.6367 - val_accuracy: 0.8228\n"
     ]
    },
    {
     "name": "stderr",
     "output_type": "stream",
     "text": [
      "/usr/local/lib/python3.10/dist-packages/keras/src/engine/training.py:3103: UserWarning: You are saving your model as an HDF5 file via `model.save()`. This file format is considered legacy. We recommend using instead the native Keras format, e.g. `model.save('my_model.keras')`.\n",
      "  saving_api.save_model(\n"
     ]
    }
   ],
   "source": [
    "lstm.compile(optimizer=\"rmsprop\", loss=\"categorical_crossentropy\", metrics=[\"accuracy\"])\n",
    "\n",
    "history = lstm.fit(\n",
    "    train_padseq, y_train, batch_size=128, epochs=15, validation_split=0.2\n",
    ")\n",
    "\n",
    "lstm.save(lstm_binary_path)\n",
    "with open(lstm_history_path, \"wb\") as file:\n",
    "    pickle.dump(history.history, file)"
   ]
  },
  {
   "cell_type": "code",
   "execution_count": null,
   "metadata": {
    "colab": {
     "base_uri": "https://localhost:8080/",
     "height": 1000
    },
    "executionInfo": {
     "elapsed": 7789,
     "status": "ok",
     "timestamp": 1715104143243,
     "user": {
      "displayName": "Vitaliy Chernysh",
      "userId": "02948826804726110807"
     },
     "user_tz": -120
    },
    "id": "mWAqz4Qd-9IG",
    "outputId": "3a5f8431-08c9-4639-e178-ed1e0d48e755"
   },
   "outputs": [
    {
     "name": "stderr",
     "output_type": "stream",
     "text": [
      "WARNING:tensorflow:Layer lstm_19 will not use cuDNN kernels since it doesn't meet the criteria. It will use a generic GPU kernel as fallback when running on GPU.\n",
      "WARNING:tensorflow:Layer lstm_19 will not use cuDNN kernels since it doesn't meet the criteria. It will use a generic GPU kernel as fallback when running on GPU.\n",
      "WARNING:tensorflow:Layer lstm_19 will not use cuDNN kernels since it doesn't meet the criteria. It will use a generic GPU kernel as fallback when running on GPU.\n",
      "WARNING:tensorflow:Layer lstm_20 will not use cuDNN kernels since it doesn't meet the criteria. It will use a generic GPU kernel as fallback when running on GPU.\n",
      "WARNING:tensorflow:Layer lstm_20 will not use cuDNN kernels since it doesn't meet the criteria. It will use a generic GPU kernel as fallback when running on GPU.\n",
      "WARNING:tensorflow:Layer lstm_20 will not use cuDNN kernels since it doesn't meet the criteria. It will use a generic GPU kernel as fallback when running on GPU.\n"
     ]
    },
    {
     "name": "stdout",
     "output_type": "stream",
     "text": [
      "15/15 [==============================] - 4s 244ms/step\n",
      "472 472\n"
     ]
    },
    {
     "data": {
      "image/png": "[encoded data removed]",
      "text/plain": [
       "<Figure size 600x600 with 1 Axes>"
      ]
     },
     "metadata": {},
     "output_type": "display_data"
    },
    {
     "data": {
      "image/png": "[encoded data removed]",
      "text/plain": [
       "<Figure size 640x480 with 2 Axes>"
      ]
     },
     "metadata": {},
     "output_type": "display_data"
    },
    {
     "data": {
      "image/png": "[encoded data removed]",
      "text/plain": [
       "<Figure size 640x480 with 2 Axes>"
      ]
     },
     "metadata": {},
     "output_type": "display_data"
    },
    {
     "data": {
      "image/png": "[encoded data removed]",
      "text/plain": [
       "<Figure size 1200x500 with 2 Axes>"
      ]
     },
     "metadata": {},
     "output_type": "display_data"
    }
   ],
   "source": [
    "lstm = load_model(lstm_binary_path)\n",
    "with open(lstm_history_path, \"rb\") as file:\n",
    "    history = pickle.load(file)\n",
    "\n",
    "evaluate_estimator(\n",
    "    lstm, test_padseq, np.argmax(y_test, axis=1), preds_one_hot=True, history=history\n",
    ")"
   ]
  }
 ],
 "metadata": {
  "colab": {
   "authorship_tag": "ABX9TyNJIIib7vOoyEUAc3HNyENa",
   "machine_shape": "hm",
   "mount_file_id": "17aJvgQAjxxCBHEUgrfzGTwrvK4mnUONu",
   "provenance": []
  },
  "kernelspec": {
   "display_name": "Python 3",
   "name": "python3"
  },
  "language_info": {
   "name": "python"
  }
 },
 "nbformat": 4,
 "nbformat_minor": 0
}