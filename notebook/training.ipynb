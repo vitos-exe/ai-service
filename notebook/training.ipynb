{
 "cells": [
  {
   "cell_type": "markdown",
   "metadata": {
    "id": "ry9uMPWAOHlf"
   },
   "source": [
    "# Downloads"
   ]
  },
  {
   "cell_type": "code",
   "metadata": {
    "colab": {
     "base_uri": "https://localhost:8080/"
    },
    "executionInfo": {
     "elapsed": 3355,
     "status": "ok",
     "timestamp": 1739181690005,
     "user": {
      "displayName": "Vitaliy Chernysh",
      "userId": "02948826804726110807"
     },
     "user_tz": -60
    },
    "id": "aHQsCYEc2qe6",
    "outputId": "afbe8081-2a4d-45aa-d65d-5dc1cef0e27a"
   },
   "source": [
    "# Only needed for Colab\n",
    "!pip install --quiet spacy pystemmer"
   ],
   "outputs": [],
   "execution_count": null
  },
  {
   "cell_type": "markdown",
   "metadata": {
    "id": "AVAdpTVtOKvB"
   },
   "source": [
    "# Import"
   ]
  },
  {
   "cell_type": "code",
   "metadata": {
    "id": "xkfKpv6f2gPS",
    "ExecuteTime": {
     "end_time": "2025-02-28T13:45:11.351582Z",
     "start_time": "2025-02-28T13:45:11.347098Z"
    }
   },
   "source": [
    "import os\n",
    "import spacy\n",
    "import Stemmer\n",
    "import torch\n",
    "import seaborn as sns\n",
    "import pandas as pd\n",
    "import numpy as np\n",
    "import re\n",
    "import gensim.downloader as api\n",
    "from torch import nn\n",
    "from torch import optim\n",
    "from torch.utils.data import TensorDataset, DataLoader\n",
    "from sklearn.feature_extraction.text import TfidfVectorizer\n",
    "from sklearn.model_selection import train_test_split\n",
    "from sklearn.preprocessing import LabelEncoder\n",
    "from sklearn.metrics import ConfusionMatrixDisplay, classification_report"
   ],
   "outputs": [],
   "execution_count": 81
  },
  {
   "cell_type": "markdown",
   "metadata": {
    "id": "GCxgKfQIONi-"
   },
   "source": [
    "# Loading data"
   ]
  },
  {
   "cell_type": "markdown",
   "metadata": {},
   "source": "## Google Colab"
  },
  {
   "cell_type": "code",
   "metadata": {
    "id": "il5QKxfA2De_"
   },
   "source": [
    "ROOT_PATH = \"drive/MyDrive/Навчання/Диплом\"\n",
    "DATASET_PATH = f\"{ROOT_PATH}/lyrics.csv\"\n",
    "df = pd.read_csv(DATASET_PATH)"
   ],
   "outputs": [],
   "execution_count": null
  },
  {
   "cell_type": "markdown",
   "metadata": {},
   "source": "## Local"
  },
  {
   "cell_type": "code",
   "metadata": {
    "ExecuteTime": {
     "end_time": "2025-02-28T13:49:47.511611Z",
     "start_time": "2025-02-28T13:49:47.473294Z"
    }
   },
   "source": [
    "DATASET_PATH = \"../lyrics.csv\"\n",
    "df = pd.read_csv(DATASET_PATH)"
   ],
   "outputs": [],
   "execution_count": 130
  },
  {
   "cell_type": "code",
   "metadata": {
    "ExecuteTime": {
     "end_time": "2025-02-28T13:48:27.841281Z",
     "start_time": "2025-02-28T13:48:27.835547Z"
    }
   },
   "source": [
    "def load_lyrics_by_label(root_folder=\"../lyrics\"):\n",
    "    data = []\n",
    "\n",
    "    for label in os.listdir(root_folder):\n",
    "        label_dir = os.path.join(root_folder, label)\n",
    "        if not os.path.isdir(label_dir):\n",
    "            continue\n",
    "\n",
    "        for filename in os.listdir(label_dir):\n",
    "            if filename.endswith(\".txt\"):\n",
    "                artist, title = filename[:-4].replace(\"&\", \"/\").split(\" - \", 1)\n",
    "                filepath = os.path.join(label_dir, filename)\n",
    "\n",
    "                with open(filepath, \"r\", encoding=\"utf-8\") as f:\n",
    "                    lyrics = f.read()\n",
    "\n",
    "                data.append(\n",
    "                    {\"label\": label, \"artist\": artist, \"title\": title, \"lyrics\": lyrics}\n",
    "                )\n",
    "\n",
    "    return pd.DataFrame(data)"
   ],
   "outputs": [],
   "execution_count": 104
  },
  {
   "cell_type": "code",
   "metadata": {
    "ExecuteTime": {
     "end_time": "2025-02-28T13:48:29.388260Z",
     "start_time": "2025-02-28T13:48:29.092025Z"
    }
   },
   "source": [
    "df = load_lyrics_by_label()"
   ],
   "outputs": [],
   "execution_count": 105
  },
  {
   "cell_type": "markdown",
   "metadata": {},
   "source": "## Common"
  },
  {
   "cell_type": "code",
   "metadata": {
    "ExecuteTime": {
     "end_time": "2025-02-28T13:49:50.368019Z",
     "start_time": "2025-02-28T13:49:50.358842Z"
    }
   },
   "source": [
    "df = df[~df[\"lyrics\"].str.startswith(\"ERROR\")]\n",
    "min_label_count = df[\"label\"].value_counts().min()\n",
    "balanced_df = df.groupby(\"label\").sample(n=min_label_count, random_state=42)"
   ],
   "outputs": [],
   "execution_count": 131
  },
  {
   "cell_type": "code",
   "metadata": {
    "colab": {
     "base_uri": "https://localhost:8080/",
     "height": 238
    },
    "executionInfo": {
     "elapsed": 20,
     "status": "ok",
     "timestamp": 1739181846391,
     "user": {
      "displayName": "Vitaliy Chernysh",
      "userId": "02948826804726110807"
     },
     "user_tz": -60
    },
    "id": "vD7CHh_sbw_C",
    "outputId": "26d353fe-cdb5-452e-8e75-dfdc8aa23a88",
    "ExecuteTime": {
     "end_time": "2025-02-28T13:48:32.076092Z",
     "start_time": "2025-02-28T13:48:32.070628Z"
    }
   },
   "source": [
    "balanced_df[\"label\"].value_counts()"
   ],
   "outputs": [
    {
     "data": {
      "text/plain": [
       "label\n",
       "angry      584\n",
       "happy      584\n",
       "relaxed    584\n",
       "sad        584\n",
       "Name: count, dtype: int64"
      ]
     },
     "execution_count": 107,
     "metadata": {},
     "output_type": "execute_result"
    }
   ],
   "execution_count": 107
  },
  {
   "cell_type": "code",
   "metadata": {
    "ExecuteTime": {
     "end_time": "2025-02-28T13:49:52.076643Z",
     "start_time": "2025-02-28T13:49:52.072240Z"
    }
   },
   "source": [
    "lyrics, labels = balanced_df[\"lyrics\"].values, balanced_df[\"label\"].values"
   ],
   "outputs": [],
   "execution_count": 132
  },
  {
   "cell_type": "markdown",
   "metadata": {
    "id": "572Jqr_dOROF"
   },
   "source": [
    "# Preprocessing"
   ]
  },
  {
   "cell_type": "markdown",
   "metadata": {
    "id": "qZxAxeX8rnm_"
   },
   "source": [
    "## Utils"
   ]
  },
  {
   "cell_type": "code",
   "metadata": {
    "id": "tCd1sy3z3AWw",
    "ExecuteTime": {
     "end_time": "2025-02-28T13:49:59.591713Z",
     "start_time": "2025-02-28T13:49:59.428149Z"
    }
   },
   "source": [
    "nlp = spacy.blank(\"en\")\n",
    "stemmer = Stemmer.Stemmer(\"english\")"
   ],
   "outputs": [],
   "execution_count": 133
  },
  {
   "cell_type": "code",
   "metadata": {
    "id": "70svDL-9a4Qq",
    "ExecuteTime": {
     "end_time": "2025-02-28T13:50:00.286965Z",
     "start_time": "2025-02-28T13:50:00.282308Z"
    }
   },
   "source": [
    "def clean(text):\n",
    "    text = text.replace(\"\\n\", \" \").replace(\"\\r\", \" \")\n",
    "    text = re.sub(\" +\", \" \", text)\n",
    "    text = re.sub(r\"\\[.*?\\]\", \"\", text)\n",
    "    text = re.sub(r\"^\\d+ Contributors\", \"\", text)\n",
    "    text = re.sub(r\"^(.*?)Lyrics\", \"\", text, flags=re.MULTILINE)\n",
    "    return text"
   ],
   "outputs": [],
   "execution_count": 134
  },
  {
   "cell_type": "code",
   "metadata": {
    "id": "XYiC-Vn-4maj",
    "ExecuteTime": {
     "end_time": "2025-02-28T13:50:01.026484Z",
     "start_time": "2025-02-28T13:50:01.022975Z"
    }
   },
   "source": [
    "def tokenize(text):\n",
    "    return [\n",
    "        str(token).lower()\n",
    "        for token in nlp(text)\n",
    "        if not token.is_stop and str(token).isalpha()\n",
    "    ]"
   ],
   "outputs": [],
   "execution_count": 135
  },
  {
   "cell_type": "code",
   "metadata": {
    "id": "82K0mk-R57iX",
    "ExecuteTime": {
     "end_time": "2025-02-28T13:50:02.524284Z",
     "start_time": "2025-02-28T13:50:02.521505Z"
    }
   },
   "source": [
    "def stem(tokens):\n",
    "    return stemmer.stemWords(tokens)"
   ],
   "outputs": [],
   "execution_count": 136
  },
  {
   "cell_type": "code",
   "metadata": {
    "id": "Y5nHU1Jy6Ui-",
    "ExecuteTime": {
     "end_time": "2025-02-28T13:50:03.245252Z",
     "start_time": "2025-02-28T13:50:03.241510Z"
    }
   },
   "source": [
    "def preprocess(text):\n",
    "    text = clean(text)\n",
    "    tokens = tokenize(text)\n",
    "    return stem(tokens)"
   ],
   "outputs": [],
   "execution_count": 137
  },
  {
   "cell_type": "markdown",
   "metadata": {
    "id": "W8sAyJbmr59U"
   },
   "source": [
    "## TF-IDF"
   ]
  },
  {
   "cell_type": "code",
   "metadata": {
    "id": "uy_9kuu6r0fH",
    "ExecuteTime": {
     "end_time": "2025-02-28T13:45:47.927325Z",
     "start_time": "2025-02-28T13:45:44.747102Z"
    }
   },
   "source": [
    "vectorizer = TfidfVectorizer(analyzer=preprocess, max_features=512)\n",
    "X = vectorizer.fit_transform(lyrics).toarray()"
   ],
   "outputs": [],
   "execution_count": 91
  },
  {
   "cell_type": "markdown",
   "metadata": {
    "id": "DB-13ah9r-dn"
   },
   "source": [
    "## Word2Vec"
   ]
  },
  {
   "cell_type": "code",
   "metadata": {
    "colab": {
     "base_uri": "https://localhost:8080/"
    },
    "executionInfo": {
     "elapsed": 690482,
     "status": "ok",
     "timestamp": 1739182556754,
     "user": {
      "displayName": "Vitaliy Chernysh",
      "userId": "02948826804726110807"
     },
     "user_tz": -60
    },
    "id": "z7MXHVijsCrK",
    "outputId": "1b7323bc-54e5-48f0-b2e0-e7d67488b929",
    "ExecuteTime": {
     "end_time": "2025-02-28T13:46:40.543969Z",
     "start_time": "2025-02-28T13:45:49.459246Z"
    }
   },
   "source": [
    "word2vec = api.load(\"word2vec-google-news-300\")"
   ],
   "outputs": [],
   "execution_count": 92
  },
  {
   "cell_type": "code",
   "metadata": {
    "id": "je0el14huSu4",
    "ExecuteTime": {
     "end_time": "2025-02-28T13:50:05.805012Z",
     "start_time": "2025-02-28T13:50:05.800653Z"
    }
   },
   "source": [
    "def get_sentence_embedding(sentence, model, vector_size=300):\n",
    "    tokens = tokenize(clean(sentence))\n",
    "    vectors = [model[word] for word in tokens if word in model]\n",
    "    if len(vectors) == 0:\n",
    "        return np.zeros(vector_size)\n",
    "    return np.mean(vectors, axis=0)"
   ],
   "outputs": [],
   "execution_count": 138
  },
  {
   "cell_type": "code",
   "metadata": {
    "id": "3V8fvYJmuY5c",
    "ExecuteTime": {
     "end_time": "2025-02-28T13:50:10.210133Z",
     "start_time": "2025-02-28T13:50:06.448719Z"
    }
   },
   "source": "X = torch.tensor(np.array([get_sentence_embedding(sentence, word2vec) for sentence in lyrics]))",
   "outputs": [],
   "execution_count": 139
  },
  {
   "cell_type": "markdown",
   "metadata": {
    "id": "RDY58VjZ0IL_"
   },
   "source": [
    "## Word2Vec sequence"
   ]
  },
  {
   "cell_type": "code",
   "metadata": {
    "id": "EFMpI3Gf-_DE"
   },
   "source": [
    "word2vec = api.load(\"word2vec-google-news-300\")"
   ],
   "outputs": [],
   "execution_count": null
  },
  {
   "cell_type": "code",
   "metadata": {
    "id": "QZjXgjZC00EO"
   },
   "source": [
    "tokenized_lyrics = [tokenize(clean(l)) for l in lyrics]\n",
    "max_sequence_length = len(max(tokenized_lyrics, key=lambda x: len(x)))"
   ],
   "outputs": [],
   "execution_count": null
  },
  {
   "cell_type": "code",
   "metadata": {
    "id": "fEP3lEW-5tvd"
   },
   "source": [
    "def get_tokens_embedding_sequence(tokens, word2vec, max_sequence_length=64):\n",
    "    vectors = [word2vec[word] for word in tokens if word in word2vec]\n",
    "    if len(vectors) == 0:\n",
    "        return np.zeros((max_sequence_length, 300))\n",
    "    if len(vectors) > max_sequence_length:\n",
    "        vectors = vectors[:max_sequence_length]\n",
    "    else:\n",
    "        vectors += [np.zeros(300)] * (max_sequence_length - len(vectors))\n",
    "    return vectors"
   ],
   "outputs": [],
   "execution_count": null
  },
  {
   "cell_type": "code",
   "metadata": {
    "id": "WL6Jj0rY0NYL"
   },
   "source": [
    "X = np.array([get_tokens_embedding_sequence(l, word2vec) for l in tokenized_lyrics])"
   ],
   "outputs": [],
   "execution_count": null
  },
  {
   "cell_type": "markdown",
   "metadata": {
    "id": "V98puTjorsUw"
   },
   "source": [
    "## Train-Test dataset split"
   ]
  },
  {
   "cell_type": "code",
   "metadata": {
    "id": "o0wZMrPPrxlb",
    "ExecuteTime": {
     "end_time": "2025-02-28T13:50:10.247208Z",
     "start_time": "2025-02-28T13:50:10.242899Z"
    }
   },
   "source": [
    "label_encoder = LabelEncoder()\n",
    "y = label_encoder.fit_transform(labels)"
   ],
   "outputs": [],
   "execution_count": 140
  },
  {
   "cell_type": "code",
   "metadata": {
    "id": "KN8FVqhuFftc",
    "ExecuteTime": {
     "end_time": "2025-02-28T13:50:10.305265Z",
     "start_time": "2025-02-28T13:50:10.297018Z"
    }
   },
   "source": [
    "X_train, X_test, y_train, y_test = train_test_split(\n",
    "    X, y, test_size=0.2, random_state=12\n",
    ")"
   ],
   "outputs": [],
   "execution_count": 141
  },
  {
   "cell_type": "code",
   "metadata": {
    "id": "rCpzY5z2Fj0v",
    "ExecuteTime": {
     "end_time": "2025-02-28T13:50:10.887786Z",
     "start_time": "2025-02-28T13:50:10.881151Z"
    }
   },
   "source": [
    "X_train_tensor = torch.tensor(X_train, dtype=torch.float32)\n",
    "X_test_tensor = torch.tensor(X_test, dtype=torch.float32)\n",
    "y_train_tensor = torch.tensor(y_train, dtype=torch.long)\n",
    "y_test_tensor = torch.tensor(y_test, dtype=torch.long)"
   ],
   "outputs": [
    {
     "name": "stderr",
     "output_type": "stream",
     "text": [
      "/var/folders/bq/1ythjgg95712smr3nh9ydpt40000gn/T/ipykernel_2330/315604663.py:1: UserWarning: To copy construct from a tensor, it is recommended to use sourceTensor.clone().detach() or sourceTensor.clone().detach().requires_grad_(True), rather than torch.tensor(sourceTensor).\n",
      "  X_train_tensor = torch.tensor(X_train, dtype=torch.float32)\n",
      "/var/folders/bq/1ythjgg95712smr3nh9ydpt40000gn/T/ipykernel_2330/315604663.py:2: UserWarning: To copy construct from a tensor, it is recommended to use sourceTensor.clone().detach() or sourceTensor.clone().detach().requires_grad_(True), rather than torch.tensor(sourceTensor).\n",
      "  X_test_tensor = torch.tensor(X_test, dtype=torch.float32)\n"
     ]
    }
   ],
   "execution_count": 142
  },
  {
   "cell_type": "code",
   "metadata": {
    "id": "ckIhXxDihOfZ",
    "ExecuteTime": {
     "end_time": "2025-02-28T13:50:12.170414Z",
     "start_time": "2025-02-28T13:50:12.166528Z"
    }
   },
   "source": [
    "batch_size = 16\n",
    "train_dataset = TensorDataset(X_train_tensor, y_train_tensor)\n",
    "train_loader = DataLoader(train_dataset, batch_size=batch_size, shuffle=True)"
   ],
   "outputs": [],
   "execution_count": 143
  },
  {
   "cell_type": "markdown",
   "metadata": {
    "id": "7duw0OwgOZgD"
   },
   "source": [
    "# DNN definition"
   ]
  },
  {
   "cell_type": "code",
   "metadata": {
    "id": "l2RwRi0iFu29",
    "ExecuteTime": {
     "end_time": "2025-02-28T13:50:13.696423Z",
     "start_time": "2025-02-28T13:50:13.690756Z"
    }
   },
   "source": [
    "class SentimentDNN(nn.Module):\n",
    "    def __init__(self, input_size, hidden_sizes, dropout_rates, output_size):\n",
    "        super(SentimentDNN, self).__init__()\n",
    "\n",
    "        layers = []\n",
    "        for i, hidden_size in enumerate(hidden_sizes):\n",
    "            layers.append(\n",
    "                nn.Linear(input_size if i == 0 else hidden_sizes[i - 1], hidden_size)\n",
    "            )\n",
    "            layers.append(nn.ReLU())\n",
    "            if dropout_rates[i] > 0:\n",
    "                layers.append(nn.Dropout(dropout_rates[i]))\n",
    "\n",
    "        layers.append(nn.Linear(hidden_sizes[-1], output_size))\n",
    "        self.model = nn.Sequential(*layers)\n",
    "\n",
    "    def forward(self, x):\n",
    "        y = self.model(x)\n",
    "        return y"
   ],
   "outputs": [],
   "execution_count": 144
  },
  {
   "cell_type": "markdown",
   "metadata": {
    "id": "4XsnJ5ib7M1T"
   },
   "source": [
    "# RNN definition"
   ]
  },
  {
   "cell_type": "code",
   "metadata": {
    "id": "D9UoYQQgeLAD"
   },
   "source": [
    "class SentimentRNN(nn.Module):\n",
    "    def __init__(self, input_size, hidden_size, num_classes):\n",
    "        super(SentimentRNN, self).__init__()\n",
    "        self.rnn = nn.RNN(input_size, hidden_size, batch_first=True)\n",
    "        self.fc = nn.Linear(hidden_size, num_classes)\n",
    "\n",
    "    def forward(self, x):\n",
    "        rnn_out, hidden = self.rnn(x)\n",
    "        return self.fc(hidden.squeeze(0))"
   ],
   "outputs": [],
   "execution_count": null
  },
  {
   "cell_type": "markdown",
   "metadata": {
    "id": "QzNh6_Zjg8SP"
   },
   "source": [
    "# Machine learning\n"
   ]
  },
  {
   "cell_type": "markdown",
   "metadata": {
    "id": "Ef48c6k4hUVY"
   },
   "source": [
    "## Model creation"
   ]
  },
  {
   "cell_type": "markdown",
   "metadata": {
    "id": "lZCf7HD5vakn"
   },
   "source": [
    "### TF-IDF"
   ]
  },
  {
   "cell_type": "code",
   "metadata": {
    "id": "r9m_Lqu2hELy"
   },
   "source": [
    "input_size = X_train.shape[1]\n",
    "hidden_sizes = [128, 64]\n",
    "dropout_rates = [0.2, 0.2]\n",
    "output_size = len(label_encoder.classes_)\n",
    "model = SentimentDNN(input_size, hidden_sizes, dropout_rates, output_size)"
   ],
   "outputs": [],
   "execution_count": null
  },
  {
   "cell_type": "markdown",
   "metadata": {
    "id": "goyAjpOEvc2M"
   },
   "source": [
    "### Word2Vec"
   ]
  },
  {
   "cell_type": "code",
   "metadata": {
    "id": "-7NT2fcevf4o",
    "ExecuteTime": {
     "end_time": "2025-02-28T13:50:16.732379Z",
     "start_time": "2025-02-28T13:50:16.727234Z"
    }
   },
   "source": [
    "input_size = X_train.shape[1]\n",
    "hidden_sizes = [128, 64]\n",
    "dropout_rates = [0.2, 0.2]\n",
    "output_size = len(label_encoder.classes_)\n",
    "model = SentimentDNN(input_size, hidden_sizes, dropout_rates, output_size)"
   ],
   "outputs": [],
   "execution_count": 145
  },
  {
   "cell_type": "markdown",
   "metadata": {
    "id": "Co2ubFIh-Ceh"
   },
   "source": [
    "### Word2Vec sequence(RNN)"
   ]
  },
  {
   "cell_type": "code",
   "metadata": {
    "id": "x6-UbwCY-BIU"
   },
   "source": [
    "model = SentimentRNN(\n",
    "    input_size=300, hidden_size=64, num_classes=len(label_encoder.classes_)\n",
    ")"
   ],
   "outputs": [],
   "execution_count": null
  },
  {
   "cell_type": "markdown",
   "metadata": {
    "id": "6exs2Gm0bg56"
   },
   "source": [
    "### Criterion and optimizer"
   ]
  },
  {
   "cell_type": "code",
   "metadata": {
    "id": "QLcrdPjPhI5p",
    "ExecuteTime": {
     "end_time": "2025-02-28T13:50:18.684006Z",
     "start_time": "2025-02-28T13:50:18.680305Z"
    }
   },
   "source": [
    "criterion = nn.CrossEntropyLoss()\n",
    "optimizer = optim.Adam(model.parameters(), lr=0.0001)"
   ],
   "outputs": [],
   "execution_count": 146
  },
  {
   "cell_type": "markdown",
   "metadata": {
    "id": "hFSDPeyDOfM-"
   },
   "source": [
    "## Training"
   ]
  },
  {
   "cell_type": "code",
   "metadata": {
    "id": "s6VFNCY9GVGb",
    "ExecuteTime": {
     "end_time": "2025-02-28T13:50:30.795030Z",
     "start_time": "2025-02-28T13:50:19.830934Z"
    }
   },
   "source": [
    "num_epochs = 64\n",
    "for epoch in range(num_epochs):\n",
    "    model.train()\n",
    "    total_loss = 0\n",
    "\n",
    "    for batch_X, batch_y in train_loader:\n",
    "        outputs = model(batch_X)\n",
    "        loss = criterion(outputs, batch_y)\n",
    "\n",
    "        optimizer.zero_grad()\n",
    "        loss.backward()\n",
    "        optimizer.step()\n",
    "\n",
    "        total_loss += loss.item()\n",
    "\n",
    "    print(f\"Epoch [{epoch + 1}/{num_epochs}], Loss: {total_loss:.4f}\")"
   ],
   "outputs": [
    {
     "name": "stdout",
     "output_type": "stream",
     "text": [
      "Epoch [1/64], Loss: 154.3498\n",
      "Epoch [2/64], Loss: 151.1439\n",
      "Epoch [3/64], Loss: 144.0711\n",
      "Epoch [4/64], Loss: 131.4385\n",
      "Epoch [5/64], Loss: 115.9266\n",
      "Epoch [6/64], Loss: 102.3310\n",
      "Epoch [7/64], Loss: 92.5541\n",
      "Epoch [8/64], Loss: 83.9755\n",
      "Epoch [9/64], Loss: 76.7378\n",
      "Epoch [10/64], Loss: 72.9694\n",
      "Epoch [11/64], Loss: 67.6725\n",
      "Epoch [12/64], Loss: 64.1982\n",
      "Epoch [13/64], Loss: 62.2580\n",
      "Epoch [14/64], Loss: 58.7711\n",
      "Epoch [15/64], Loss: 57.0395\n",
      "Epoch [16/64], Loss: 52.9350\n",
      "Epoch [17/64], Loss: 52.6392\n",
      "Epoch [18/64], Loss: 51.6779\n",
      "Epoch [19/64], Loss: 48.3343\n",
      "Epoch [20/64], Loss: 48.2797\n",
      "Epoch [21/64], Loss: 46.5135\n",
      "Epoch [22/64], Loss: 46.1372\n",
      "Epoch [23/64], Loss: 44.6243\n",
      "Epoch [24/64], Loss: 44.0994\n",
      "Epoch [25/64], Loss: 41.5078\n",
      "Epoch [26/64], Loss: 41.8435\n",
      "Epoch [27/64], Loss: 41.3764\n",
      "Epoch [28/64], Loss: 40.4020\n",
      "Epoch [29/64], Loss: 39.3708\n",
      "Epoch [30/64], Loss: 38.6872\n",
      "Epoch [31/64], Loss: 37.4936\n",
      "Epoch [32/64], Loss: 36.8817\n",
      "Epoch [33/64], Loss: 37.1080\n",
      "Epoch [34/64], Loss: 35.4278\n",
      "Epoch [35/64], Loss: 36.0846\n",
      "Epoch [36/64], Loss: 35.0254\n",
      "Epoch [37/64], Loss: 35.0178\n",
      "Epoch [38/64], Loss: 33.0346\n",
      "Epoch [39/64], Loss: 33.0383\n",
      "Epoch [40/64], Loss: 33.8008\n",
      "Epoch [41/64], Loss: 32.7913\n",
      "Epoch [42/64], Loss: 33.8095\n",
      "Epoch [43/64], Loss: 31.9620\n",
      "Epoch [44/64], Loss: 30.3101\n",
      "Epoch [45/64], Loss: 31.5019\n",
      "Epoch [46/64], Loss: 30.9018\n",
      "Epoch [47/64], Loss: 30.0811\n",
      "Epoch [48/64], Loss: 30.6414\n",
      "Epoch [49/64], Loss: 29.8219\n",
      "Epoch [50/64], Loss: 30.3898\n",
      "Epoch [51/64], Loss: 29.2044\n",
      "Epoch [52/64], Loss: 28.2101\n",
      "Epoch [53/64], Loss: 28.6671\n",
      "Epoch [54/64], Loss: 27.7777\n",
      "Epoch [55/64], Loss: 28.4599\n",
      "Epoch [56/64], Loss: 27.6008\n",
      "Epoch [57/64], Loss: 28.1472\n",
      "Epoch [58/64], Loss: 27.2821\n",
      "Epoch [59/64], Loss: 26.4371\n",
      "Epoch [60/64], Loss: 26.5513\n",
      "Epoch [61/64], Loss: 25.8440\n",
      "Epoch [62/64], Loss: 25.5205\n",
      "Epoch [63/64], Loss: 24.9246\n",
      "Epoch [64/64], Loss: 25.2087\n"
     ]
    }
   ],
   "execution_count": 147
  },
  {
   "cell_type": "markdown",
   "metadata": {
    "id": "ZMZnwdiVOg2I"
   },
   "source": [
    "## Evaluation"
   ]
  },
  {
   "cell_type": "code",
   "metadata": {
    "colab": {
     "base_uri": "https://localhost:8080/"
    },
    "executionInfo": {
     "elapsed": 6,
     "status": "ok",
     "timestamp": 1739197999372,
     "user": {
      "displayName": "Vitaliy Chernysh",
      "userId": "02948826804726110807"
     },
     "user_tz": -60
    },
    "id": "CasppT-aGyMM",
    "outputId": "a5651979-f1f9-4462-f83c-08b41b7990f9",
    "ExecuteTime": {
     "end_time": "2025-02-28T13:50:33.479147Z",
     "start_time": "2025-02-28T13:50:33.473672Z"
    }
   },
   "source": [
    "with torch.no_grad():\n",
    "    model.eval()\n",
    "    y_pred = model(X_test_tensor)\n",
    "    y_pred_classes = torch.argmax(y_pred, axis=1)\n",
    "    accuracy = (y_pred_classes == y_test_tensor).sum().item() / len(y_test_tensor)\n",
    "    print(f\"Test Accuracy: {accuracy:.4f}\")"
   ],
   "outputs": [
    {
     "name": "stdout",
     "output_type": "stream",
     "text": [
      "Test Accuracy: 0.8747\n"
     ]
    }
   ],
   "execution_count": 148
  },
  {
   "cell_type": "code",
   "metadata": {
    "colab": {
     "base_uri": "https://localhost:8080/",
     "height": 447
    },
    "executionInfo": {
     "elapsed": 449,
     "status": "ok",
     "timestamp": 1739190583506,
     "user": {
      "displayName": "Vitaliy Chernysh",
      "userId": "02948826804726110807"
     },
     "user_tz": -60
    },
    "id": "eAoCBL1HRs2z",
    "outputId": "2998d82f-6735-47ed-dfa1-96ac1d9e626a"
   },
   "source": [
    "clf_report = classification_report(\n",
    "    y_test, y_pred_classes, target_names=label_encoder.classes_, output_dict=True\n",
    ")\n",
    "sns.heatmap(pd.DataFrame(clf_report).iloc[:-1, :].T, annot=True)"
   ],
   "outputs": [],
   "execution_count": null
  },
  {
   "cell_type": "code",
   "metadata": {
    "colab": {
     "base_uri": "https://localhost:8080/",
     "height": 466
    },
    "executionInfo": {
     "elapsed": 273,
     "status": "ok",
     "timestamp": 1739190593336,
     "user": {
      "displayName": "Vitaliy Chernysh",
      "userId": "02948826804726110807"
     },
     "user_tz": -60
    },
    "id": "bsjdItYFRGxv",
    "outputId": "6addd9db-c9bf-4d78-b95e-83cd3b1808d1"
   },
   "source": [
    "ConfusionMatrixDisplay.from_predictions(\n",
    "    y_test, y_pred_classes, display_labels=label_encoder.classes_\n",
    ")"
   ],
   "outputs": [],
   "execution_count": null
  },
  {
   "cell_type": "markdown",
   "metadata": {
    "id": "pJvuDzzvR6OQ"
   },
   "source": [
    "# Saving model"
   ]
  },
  {
   "cell_type": "code",
   "metadata": {
    "id": "DTeBClIwR7Xp"
   },
   "source": [
    "torch.save(model.state_dict(), \"sentiment-dnn.pt\")"
   ],
   "outputs": [],
   "execution_count": null
  }
 ],
 "metadata": {
  "colab": {
   "authorship_tag": "ABX9TyP6l/XkAAwbbZsr+utSEzLr",
   "mount_file_id": "1MmZjMp0i-xiDq9phXBxanCPoAhlrSn6E",
   "provenance": []
  },
  "kernelspec": {
   "display_name": "Python 3 (ipykernel)",
   "language": "python",
   "name": "python3"
  },
  "language_info": {
   "codemirror_mode": {
    "name": "ipython",
    "version": 3
   },
   "file_extension": ".py",
   "mimetype": "text/x-python",
   "name": "python",
   "nbconvert_exporter": "python",
   "pygments_lexer": "ipython3",
   "version": "3.11.11"
  }
 },
 "nbformat": 4,
 "nbformat_minor": 4
}
