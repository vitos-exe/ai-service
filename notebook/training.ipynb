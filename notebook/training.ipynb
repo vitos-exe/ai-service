{
 "cells": [
  {
   "cell_type": "markdown",
   "metadata": {
    "id": "ry9uMPWAOHlf"
   },
   "source": [
    "# Downloads"
   ]
  },
  {
   "cell_type": "code",
   "execution_count": null,
   "metadata": {
    "colab": {
     "base_uri": "https://localhost:8080/"
    },
    "executionInfo": {
     "elapsed": 3355,
     "status": "ok",
     "timestamp": 1739181690005,
     "user": {
      "displayName": "Vitaliy Chernysh",
      "userId": "02948826804726110807"
     },
     "user_tz": -60
    },
    "id": "aHQsCYEc2qe6",
    "outputId": "afbe8081-2a4d-45aa-d65d-5dc1cef0e27a"
   },
   "outputs": [],
   "source": [
    "# Only needed for Colab\n",
    "!pip install --quiet spacy pystemmer"
   ]
  },
  {
   "cell_type": "markdown",
   "metadata": {
    "id": "AVAdpTVtOKvB"
   },
   "source": [
    "# Import"
   ]
  },
  {
   "cell_type": "code",
   "execution_count": 1,
   "metadata": {
    "ExecuteTime": {
     "end_time": "2025-02-24T15:39:19.611535Z",
     "start_time": "2025-02-24T15:39:15.340954Z"
    },
    "id": "xkfKpv6f2gPS"
   },
   "outputs": [],
   "source": [
    "import pickle\n",
    "import os\n",
    "import spacy\n",
    "import Stemmer\n",
    "import torch\n",
    "import seaborn as sns\n",
    "import pandas as pd\n",
    "import numpy as np\n",
    "import re\n",
    "import gensim.downloader as api\n",
    "from torch import nn\n",
    "from torch import optim\n",
    "from torch.utils.data import TensorDataset, DataLoader\n",
    "from sklearn.feature_extraction.text import TfidfVectorizer\n",
    "from sklearn.model_selection import train_test_split\n",
    "from sklearn.preprocessing import LabelEncoder\n",
    "from sklearn.metrics import ConfusionMatrixDisplay, classification_report"
   ]
  },
  {
   "cell_type": "markdown",
   "metadata": {
    "id": "GCxgKfQIONi-"
   },
   "source": [
    "# Loading data"
   ]
  },
  {
   "cell_type": "markdown",
   "metadata": {},
   "source": "## Google Colab"
  },
  {
   "cell_type": "code",
   "execution_count": null,
   "metadata": {
    "id": "il5QKxfA2De_"
   },
   "outputs": [],
   "source": [
    "ROOT_PATH = \"drive/MyDrive/Навчання/Диплом\"\n",
    "DATASET_PATH = f\"{ROOT_PATH}/lyrics.csv\"\n",
    "df = pd.read_csv(DATASET_PATH)"
   ]
  },
  {
   "cell_type": "markdown",
   "metadata": {},
   "source": "## Local"
  },
  {
   "cell_type": "code",
   "execution_count": 6,
   "metadata": {
    "ExecuteTime": {
     "end_time": "2025-02-21T14:43:26.124348Z",
     "start_time": "2025-02-21T14:43:26.070992Z"
    }
   },
   "outputs": [],
   "source": [
    "DATASET_PATH = \"../lyrics.csv\"\n",
    "df = pd.read_csv(DATASET_PATH)"
   ]
  },
  {
   "cell_type": "code",
   "execution_count": 4,
   "metadata": {
    "ExecuteTime": {
     "end_time": "2025-02-24T15:39:38.980248Z",
     "start_time": "2025-02-24T15:39:38.975616Z"
    }
   },
   "outputs": [],
   "source": [
    "def load_lyrics_by_label(root_folder=\"../lyrics\"):\n",
    "    data = []\n",
    "\n",
    "    for label in os.listdir(root_folder):\n",
    "        label_dir = os.path.join(root_folder, label)\n",
    "        if not os.path.isdir(label_dir):\n",
    "            continue\n",
    "\n",
    "        for filename in os.listdir(label_dir):\n",
    "            if filename.endswith(\".txt\"):\n",
    "                artist, title = filename[:-4].replace(\"&\", \"/\").split(\" - \", 1)\n",
    "                filepath = os.path.join(label_dir, filename)\n",
    "\n",
    "                with open(filepath, \"r\", encoding=\"utf-8\") as f:\n",
    "                    lyrics = f.read()\n",
    "\n",
    "                data.append(\n",
    "                    {\"label\": label, \"artist\": artist, \"title\": title, \"lyrics\": lyrics}\n",
    "                )\n",
    "\n",
    "    return pd.DataFrame(data)"
   ]
  },
  {
   "cell_type": "code",
   "execution_count": 5,
   "metadata": {
    "ExecuteTime": {
     "end_time": "2025-02-24T15:39:40.335332Z",
     "start_time": "2025-02-24T15:39:40.116636Z"
    }
   },
   "outputs": [],
   "source": [
    "df = load_lyrics_by_label()"
   ]
  },
  {
   "cell_type": "markdown",
   "metadata": {},
   "source": "## Common"
  },
  {
   "cell_type": "code",
   "execution_count": 8,
   "metadata": {
    "ExecuteTime": {
     "end_time": "2025-02-21T14:43:49.141747Z",
     "start_time": "2025-02-21T14:43:49.131386Z"
    }
   },
   "outputs": [],
   "source": [
    "df = df[~df[\"lyrics\"].str.startswith(\"ERROR\")]\n",
    "min_label_count = df[\"label\"].value_counts().min()\n",
    "balanced_df = df.groupby(\"label\").sample(n=min_label_count, random_state=42)"
   ]
  },
  {
   "cell_type": "code",
   "execution_count": 9,
   "metadata": {
    "ExecuteTime": {
     "end_time": "2025-02-21T14:43:58.157658Z",
     "start_time": "2025-02-21T14:43:58.148027Z"
    },
    "colab": {
     "base_uri": "https://localhost:8080/",
     "height": 238
    },
    "executionInfo": {
     "elapsed": 20,
     "status": "ok",
     "timestamp": 1739181846391,
     "user": {
      "displayName": "Vitaliy Chernysh",
      "userId": "02948826804726110807"
     },
     "user_tz": -60
    },
    "id": "vD7CHh_sbw_C",
    "outputId": "26d353fe-cdb5-452e-8e75-dfdc8aa23a88"
   },
   "outputs": [
    {
     "data": {
      "text/plain": [
       "label\n",
       "angry      558\n",
       "happy      558\n",
       "relaxed    558\n",
       "sad        558\n",
       "Name: count, dtype: int64"
      ]
     },
     "execution_count": 9,
     "metadata": {},
     "output_type": "execute_result"
    }
   ],
   "source": [
    "balanced_df[\"label\"].value_counts()"
   ]
  },
  {
   "cell_type": "code",
   "execution_count": 10,
   "metadata": {
    "ExecuteTime": {
     "end_time": "2025-02-21T14:44:01.254407Z",
     "start_time": "2025-02-21T14:44:01.251310Z"
    }
   },
   "outputs": [],
   "source": [
    "lyrics, labels = balanced_df[\"lyrics\"].values, balanced_df[\"label\"].values"
   ]
  },
  {
   "cell_type": "markdown",
   "metadata": {
    "id": "572Jqr_dOROF"
   },
   "source": [
    "# Preprocessing"
   ]
  },
  {
   "cell_type": "markdown",
   "metadata": {
    "id": "qZxAxeX8rnm_"
   },
   "source": [
    "## Utils"
   ]
  },
  {
   "cell_type": "code",
   "execution_count": 11,
   "metadata": {
    "ExecuteTime": {
     "end_time": "2025-02-21T14:44:10.179588Z",
     "start_time": "2025-02-21T14:44:10.003152Z"
    },
    "id": "tCd1sy3z3AWw"
   },
   "outputs": [],
   "source": [
    "nlp = spacy.blank(\"en\")\n",
    "stemmer = Stemmer.Stemmer(\"english\")"
   ]
  },
  {
   "cell_type": "code",
   "execution_count": 12,
   "metadata": {
    "ExecuteTime": {
     "end_time": "2025-02-21T14:44:16.738495Z",
     "start_time": "2025-02-21T14:44:16.735014Z"
    },
    "id": "70svDL-9a4Qq"
   },
   "outputs": [],
   "source": [
    "def clean(text):\n",
    "    text = text.replace(\"\\n\", \" \").replace(\"\\r\", \" \")\n",
    "    text = re.sub(\" +\", \" \", text)\n",
    "    text = re.sub(r\"\\[.*?\\]\", \"\", text)\n",
    "    text = re.sub(r\"^\\d+ Contributors\", \"\", text)\n",
    "    text = re.sub(r\"^(.*?)Lyrics\", \"\", text, flags=re.MULTILINE)\n",
    "    return text"
   ]
  },
  {
   "cell_type": "code",
   "execution_count": 13,
   "metadata": {
    "ExecuteTime": {
     "end_time": "2025-02-21T14:44:17.761659Z",
     "start_time": "2025-02-21T14:44:17.758168Z"
    },
    "id": "XYiC-Vn-4maj"
   },
   "outputs": [],
   "source": [
    "def tokenize(text):\n",
    "    return [\n",
    "        str(token).lower()\n",
    "        for token in nlp(text)\n",
    "        if not token.is_stop and str(token).isalpha()\n",
    "    ]"
   ]
  },
  {
   "cell_type": "code",
   "execution_count": 14,
   "metadata": {
    "ExecuteTime": {
     "end_time": "2025-02-21T14:44:18.405688Z",
     "start_time": "2025-02-21T14:44:18.402693Z"
    },
    "id": "82K0mk-R57iX"
   },
   "outputs": [],
   "source": [
    "def stem(tokens):\n",
    "    return stemmer.stemWords(tokens)"
   ]
  },
  {
   "cell_type": "code",
   "execution_count": 15,
   "metadata": {
    "ExecuteTime": {
     "end_time": "2025-02-21T14:44:18.508463Z",
     "start_time": "2025-02-21T14:44:18.504889Z"
    },
    "id": "Y5nHU1Jy6Ui-"
   },
   "outputs": [],
   "source": [
    "def preprocess(text):\n",
    "    text = clean(text)\n",
    "    tokens = tokenize(text)\n",
    "    return stem(tokens)"
   ]
  },
  {
   "cell_type": "markdown",
   "metadata": {
    "id": "W8sAyJbmr59U"
   },
   "source": [
    "## TF-IDF"
   ]
  },
  {
   "cell_type": "code",
   "execution_count": 16,
   "metadata": {
    "ExecuteTime": {
     "end_time": "2025-02-21T14:44:24.588681Z",
     "start_time": "2025-02-21T14:44:21.836390Z"
    },
    "id": "uy_9kuu6r0fH"
   },
   "outputs": [],
   "source": [
    "vectorizer = TfidfVectorizer(analyzer=preprocess, max_features=512)\n",
    "X = vectorizer.fit_transform(lyrics).toarray()"
   ]
  },
  {
   "cell_type": "markdown",
   "metadata": {
    "id": "DB-13ah9r-dn"
   },
   "source": [
    "## Word2Vec"
   ]
  },
  {
   "cell_type": "code",
   "execution_count": null,
   "metadata": {
    "colab": {
     "base_uri": "https://localhost:8080/"
    },
    "executionInfo": {
     "elapsed": 690482,
     "status": "ok",
     "timestamp": 1739182556754,
     "user": {
      "displayName": "Vitaliy Chernysh",
      "userId": "02948826804726110807"
     },
     "user_tz": -60
    },
    "id": "z7MXHVijsCrK",
    "outputId": "1b7323bc-54e5-48f0-b2e0-e7d67488b929"
   },
   "outputs": [],
   "source": [
    "word2vec = api.load(\"word2vec-google-news-300\")"
   ]
  },
  {
   "cell_type": "code",
   "execution_count": null,
   "metadata": {
    "id": "je0el14huSu4"
   },
   "outputs": [],
   "source": [
    "def get_sentence_embedding(sentence, model, vector_size=300):\n",
    "    tokens = tokenize(clean(sentence))\n",
    "    vectors = [model[word] for word in tokens if word in model]\n",
    "    if len(vectors) == 0:\n",
    "        return np.zeros(vector_size)\n",
    "    return np.mean(vectors, axis=0)"
   ]
  },
  {
   "cell_type": "code",
   "execution_count": null,
   "metadata": {
    "id": "3V8fvYJmuY5c"
   },
   "outputs": [],
   "source": [
    "X = torch.tensor([get_sentence_embedding(sentence, word2vec) for sentence in lyrics])"
   ]
  },
  {
   "cell_type": "markdown",
   "metadata": {
    "id": "RDY58VjZ0IL_"
   },
   "source": [
    "## Word2Vec sequence"
   ]
  },
  {
   "cell_type": "code",
   "execution_count": null,
   "metadata": {
    "id": "EFMpI3Gf-_DE"
   },
   "outputs": [],
   "source": [
    "word2vec = api.load(\"word2vec-google-news-300\")"
   ]
  },
  {
   "cell_type": "code",
   "execution_count": null,
   "metadata": {
    "id": "QZjXgjZC00EO"
   },
   "outputs": [],
   "source": [
    "tokenized_lyrics = [tokenize(clean(l)) for l in lyrics]\n",
    "max_sequence_length = len(max(tokenized_lyrics, key=lambda x: len(x)))"
   ]
  },
  {
   "cell_type": "code",
   "execution_count": null,
   "metadata": {
    "id": "fEP3lEW-5tvd"
   },
   "outputs": [],
   "source": [
    "def get_tokens_embedding_sequence(tokens, word2vec, max_sequence_length=64):\n",
    "    vectors = [word2vec[word] for word in tokens if word in word2vec]\n",
    "    if len(vectors) == 0:\n",
    "        return np.zeros((max_sequence_length, 300))\n",
    "    if len(vectors) > max_sequence_length:\n",
    "        vectors = vectors[:max_sequence_length]\n",
    "    else:\n",
    "        vectors += [np.zeros(300)] * (max_sequence_length - len(vectors))\n",
    "    return vectors"
   ]
  },
  {
   "cell_type": "code",
   "execution_count": null,
   "metadata": {
    "id": "WL6Jj0rY0NYL"
   },
   "outputs": [],
   "source": [
    "X = np.array([get_tokens_embedding_sequence(l, word2vec) for l in tokenized_lyrics])"
   ]
  },
  {
   "cell_type": "markdown",
   "metadata": {
    "id": "V98puTjorsUw"
   },
   "source": [
    "## Train-Test dataset split"
   ]
  },
  {
   "cell_type": "code",
   "execution_count": 17,
   "metadata": {
    "ExecuteTime": {
     "end_time": "2025-02-21T14:44:29.249617Z",
     "start_time": "2025-02-21T14:44:29.245914Z"
    },
    "id": "o0wZMrPPrxlb"
   },
   "outputs": [],
   "source": [
    "label_encoder = LabelEncoder()\n",
    "y = label_encoder.fit_transform(labels)"
   ]
  },
  {
   "cell_type": "code",
   "execution_count": 18,
   "metadata": {
    "ExecuteTime": {
     "end_time": "2025-02-21T14:44:29.627960Z",
     "start_time": "2025-02-21T14:44:29.620344Z"
    },
    "id": "KN8FVqhuFftc"
   },
   "outputs": [],
   "source": [
    "X_train, X_test, y_train, y_test = train_test_split(\n",
    "    X, y, test_size=0.2, random_state=12\n",
    ")"
   ]
  },
  {
   "cell_type": "code",
   "execution_count": 19,
   "metadata": {
    "ExecuteTime": {
     "end_time": "2025-02-21T14:44:29.951082Z",
     "start_time": "2025-02-21T14:44:29.944954Z"
    },
    "id": "rCpzY5z2Fj0v"
   },
   "outputs": [],
   "source": [
    "X_train_tensor = torch.tensor(X_train, dtype=torch.float32)\n",
    "X_test_tensor = torch.tensor(X_test, dtype=torch.float32)\n",
    "y_train_tensor = torch.tensor(y_train, dtype=torch.long)\n",
    "y_test_tensor = torch.tensor(y_test, dtype=torch.long)"
   ]
  },
  {
   "cell_type": "code",
   "execution_count": 20,
   "metadata": {
    "ExecuteTime": {
     "end_time": "2025-02-21T14:44:30.364116Z",
     "start_time": "2025-02-21T14:44:30.361140Z"
    },
    "id": "ckIhXxDihOfZ"
   },
   "outputs": [],
   "source": [
    "batch_size = 16\n",
    "train_dataset = TensorDataset(X_train_tensor, y_train_tensor)\n",
    "train_loader = DataLoader(train_dataset, batch_size=batch_size, shuffle=True)"
   ]
  },
  {
   "cell_type": "markdown",
   "metadata": {
    "id": "7duw0OwgOZgD"
   },
   "source": [
    "# DNN definition"
   ]
  },
  {
   "cell_type": "code",
   "execution_count": 22,
   "metadata": {
    "ExecuteTime": {
     "end_time": "2025-02-21T14:44:38.039722Z",
     "start_time": "2025-02-21T14:44:38.034829Z"
    },
    "id": "l2RwRi0iFu29"
   },
   "outputs": [],
   "source": [
    "class SentimentDNN(nn.Module):\n",
    "    def __init__(self, input_size, hidden_sizes, dropout_rates, output_size):\n",
    "        super(SentimentDNN, self).__init__()\n",
    "\n",
    "        layers = []\n",
    "        for i, hidden_size in enumerate(hidden_sizes):\n",
    "            layers.append(\n",
    "                nn.Linear(input_size if i == 0 else hidden_sizes[i - 1], hidden_size)\n",
    "            )\n",
    "            layers.append(nn.ReLU())\n",
    "            if dropout_rates[i] > 0:\n",
    "                layers.append(nn.Dropout(dropout_rates[i]))\n",
    "\n",
    "        layers.append(nn.Linear(hidden_sizes[-1], output_size))\n",
    "        self.model = nn.Sequential(*layers)\n",
    "\n",
    "    def forward(self, x):\n",
    "        y = self.model(x)\n",
    "        return y"
   ]
  },
  {
   "cell_type": "markdown",
   "metadata": {
    "id": "4XsnJ5ib7M1T"
   },
   "source": [
    "# RNN definition"
   ]
  },
  {
   "cell_type": "code",
   "execution_count": null,
   "metadata": {
    "id": "D9UoYQQgeLAD"
   },
   "outputs": [],
   "source": [
    "class SentimentRNN(nn.Module):\n",
    "    def __init__(self, input_size, hidden_size, num_classes):\n",
    "        super(SentimentRNN, self).__init__()\n",
    "        self.rnn = nn.RNN(input_size, hidden_size, batch_first=True)\n",
    "        self.fc = nn.Linear(hidden_size, num_classes)\n",
    "\n",
    "    def forward(self, x):\n",
    "        rnn_out, hidden = self.rnn(x)\n",
    "        return self.fc(hidden.squeeze(0))"
   ]
  },
  {
   "cell_type": "markdown",
   "metadata": {
    "id": "QzNh6_Zjg8SP"
   },
   "source": [
    "# Machine learning\n"
   ]
  },
  {
   "cell_type": "markdown",
   "metadata": {
    "id": "Ef48c6k4hUVY"
   },
   "source": [
    "## Model creation"
   ]
  },
  {
   "cell_type": "markdown",
   "metadata": {
    "id": "lZCf7HD5vakn"
   },
   "source": [
    "### TF-IDF"
   ]
  },
  {
   "cell_type": "code",
   "execution_count": 23,
   "metadata": {
    "ExecuteTime": {
     "end_time": "2025-02-21T14:44:42.202184Z",
     "start_time": "2025-02-21T14:44:42.198045Z"
    },
    "id": "r9m_Lqu2hELy"
   },
   "outputs": [],
   "source": [
    "input_size = X_train.shape[1]\n",
    "hidden_sizes = [128, 64]\n",
    "dropout_rates = [0.2, 0.2]\n",
    "output_size = len(label_encoder.classes_)\n",
    "model = SentimentDNN(input_size, hidden_sizes, dropout_rates, output_size)"
   ]
  },
  {
   "cell_type": "markdown",
   "metadata": {
    "id": "goyAjpOEvc2M"
   },
   "source": [
    "### Word2Vec"
   ]
  },
  {
   "cell_type": "code",
   "execution_count": null,
   "metadata": {
    "id": "-7NT2fcevf4o"
   },
   "outputs": [],
   "source": [
    "input_size = X_train.shape[1]\n",
    "hidden_sizes = [64, 32]\n",
    "dropout_rates = [0, 0]\n",
    "output_size = len(label_encoder.classes_)\n",
    "model = SentimentDNN(input_size, hidden_sizes, dropout_rates, output_size)"
   ]
  },
  {
   "cell_type": "markdown",
   "metadata": {
    "id": "Co2ubFIh-Ceh"
   },
   "source": [
    "### Word2Vec sequence(RNN)"
   ]
  },
  {
   "cell_type": "code",
   "execution_count": null,
   "metadata": {
    "id": "x6-UbwCY-BIU"
   },
   "outputs": [],
   "source": [
    "model = SentimentRNN(\n",
    "    input_size=300, hidden_size=64, num_classes=len(label_encoder.classes_)\n",
    ")"
   ]
  },
  {
   "cell_type": "markdown",
   "metadata": {
    "id": "6exs2Gm0bg56"
   },
   "source": [
    "### Criterion and optimizer"
   ]
  },
  {
   "cell_type": "code",
   "execution_count": 24,
   "metadata": {
    "ExecuteTime": {
     "end_time": "2025-02-21T14:44:51.170443Z",
     "start_time": "2025-02-21T14:44:46.608838Z"
    },
    "id": "QLcrdPjPhI5p"
   },
   "outputs": [],
   "source": [
    "criterion = nn.CrossEntropyLoss()\n",
    "optimizer = optim.Adam(model.parameters(), lr=0.0001)"
   ]
  },
  {
   "cell_type": "markdown",
   "metadata": {
    "id": "hFSDPeyDOfM-"
   },
   "source": [
    "## Training"
   ]
  },
  {
   "cell_type": "code",
   "execution_count": 25,
   "metadata": {
    "ExecuteTime": {
     "end_time": "2025-02-21T14:45:05.806936Z",
     "start_time": "2025-02-21T14:44:55.467482Z"
    },
    "id": "s6VFNCY9GVGb"
   },
   "outputs": [
    {
     "name": "stdout",
     "output_type": "stream",
     "text": [
      "Epoch [1/64], Loss: 155.6825\n",
      "Epoch [2/64], Loss: 154.8291\n",
      "Epoch [3/64], Loss: 153.4650\n",
      "Epoch [4/64], Loss: 149.9794\n",
      "Epoch [5/64], Loss: 142.5696\n",
      "Epoch [6/64], Loss: 129.4210\n",
      "Epoch [7/64], Loss: 111.9171\n",
      "Epoch [8/64], Loss: 92.9567\n",
      "Epoch [9/64], Loss: 76.4101\n",
      "Epoch [10/64], Loss: 62.9600\n",
      "Epoch [11/64], Loss: 53.4069\n",
      "Epoch [12/64], Loss: 46.1110\n",
      "Epoch [13/64], Loss: 40.9770\n",
      "Epoch [14/64], Loss: 36.5133\n",
      "Epoch [15/64], Loss: 33.1190\n",
      "Epoch [16/64], Loss: 30.0497\n",
      "Epoch [17/64], Loss: 27.6893\n",
      "Epoch [18/64], Loss: 25.8499\n",
      "Epoch [19/64], Loss: 24.1974\n",
      "Epoch [20/64], Loss: 22.5803\n",
      "Epoch [21/64], Loss: 21.1686\n",
      "Epoch [22/64], Loss: 19.8339\n",
      "Epoch [23/64], Loss: 18.8786\n",
      "Epoch [24/64], Loss: 17.6409\n",
      "Epoch [25/64], Loss: 16.9364\n",
      "Epoch [26/64], Loss: 16.4857\n",
      "Epoch [27/64], Loss: 15.5781\n",
      "Epoch [28/64], Loss: 15.2980\n",
      "Epoch [29/64], Loss: 14.2462\n",
      "Epoch [30/64], Loss: 13.3793\n",
      "Epoch [31/64], Loss: 12.7409\n",
      "Epoch [32/64], Loss: 12.3090\n",
      "Epoch [33/64], Loss: 12.0814\n",
      "Epoch [34/64], Loss: 11.4039\n",
      "Epoch [35/64], Loss: 11.2435\n",
      "Epoch [36/64], Loss: 11.0389\n",
      "Epoch [37/64], Loss: 10.7708\n",
      "Epoch [38/64], Loss: 9.8582\n",
      "Epoch [39/64], Loss: 9.5189\n",
      "Epoch [40/64], Loss: 9.5909\n",
      "Epoch [41/64], Loss: 9.5723\n",
      "Epoch [42/64], Loss: 8.7082\n",
      "Epoch [43/64], Loss: 8.8434\n",
      "Epoch [44/64], Loss: 7.9757\n",
      "Epoch [45/64], Loss: 8.0694\n",
      "Epoch [46/64], Loss: 7.3696\n",
      "Epoch [47/64], Loss: 7.1993\n",
      "Epoch [48/64], Loss: 6.9218\n",
      "Epoch [49/64], Loss: 6.6036\n",
      "Epoch [50/64], Loss: 6.5337\n",
      "Epoch [51/64], Loss: 6.2862\n",
      "Epoch [52/64], Loss: 5.6421\n",
      "Epoch [53/64], Loss: 5.8971\n",
      "Epoch [54/64], Loss: 5.7442\n",
      "Epoch [55/64], Loss: 5.1335\n",
      "Epoch [56/64], Loss: 4.7196\n",
      "Epoch [57/64], Loss: 4.8240\n",
      "Epoch [58/64], Loss: 4.7677\n",
      "Epoch [59/64], Loss: 4.6242\n",
      "Epoch [60/64], Loss: 4.4429\n",
      "Epoch [61/64], Loss: 4.5476\n",
      "Epoch [62/64], Loss: 4.3891\n",
      "Epoch [63/64], Loss: 4.3456\n",
      "Epoch [64/64], Loss: 3.9516\n"
     ]
    }
   ],
   "source": [
    "num_epochs = 64\n",
    "for epoch in range(num_epochs):\n",
    "    model.train()\n",
    "    total_loss = 0\n",
    "\n",
    "    for batch_X, batch_y in train_loader:\n",
    "        outputs = model(batch_X)\n",
    "        loss = criterion(outputs, batch_y)\n",
    "\n",
    "        optimizer.zero_grad()\n",
    "        loss.backward()\n",
    "        optimizer.step()\n",
    "\n",
    "        total_loss += loss.item()\n",
    "\n",
    "    print(f\"Epoch [{epoch + 1}/{num_epochs}], Loss: {total_loss:.4f}\")"
   ]
  },
  {
   "cell_type": "markdown",
   "metadata": {
    "id": "ZMZnwdiVOg2I"
   },
   "source": [
    "## Evaluation"
   ]
  },
  {
   "cell_type": "code",
   "execution_count": 26,
   "metadata": {
    "ExecuteTime": {
     "end_time": "2025-02-21T14:45:09.502508Z",
     "start_time": "2025-02-21T14:45:09.497965Z"
    },
    "colab": {
     "base_uri": "https://localhost:8080/"
    },
    "executionInfo": {
     "elapsed": 6,
     "status": "ok",
     "timestamp": 1739197999372,
     "user": {
      "displayName": "Vitaliy Chernysh",
      "userId": "02948826804726110807"
     },
     "user_tz": -60
    },
    "id": "CasppT-aGyMM",
    "outputId": "a5651979-f1f9-4462-f83c-08b41b7990f9"
   },
   "outputs": [
    {
     "name": "stdout",
     "output_type": "stream",
     "text": [
      "Test Accuracy: 0.9351\n"
     ]
    }
   ],
   "source": [
    "with torch.no_grad():\n",
    "    model.eval()\n",
    "    y_pred = model(X_test_tensor)\n",
    "    y_pred_classes = torch.argmax(y_pred, axis=1)\n",
    "    accuracy = (y_pred_classes == y_test_tensor).sum().item() / len(y_test_tensor)\n",
    "    print(f\"Test Accuracy: {accuracy:.4f}\")"
   ]
  },
  {
   "cell_type": "code",
   "execution_count": null,
   "metadata": {
    "colab": {
     "base_uri": "https://localhost:8080/",
     "height": 447
    },
    "executionInfo": {
     "elapsed": 449,
     "status": "ok",
     "timestamp": 1739190583506,
     "user": {
      "displayName": "Vitaliy Chernysh",
      "userId": "02948826804726110807"
     },
     "user_tz": -60
    },
    "id": "eAoCBL1HRs2z",
    "outputId": "2998d82f-6735-47ed-dfa1-96ac1d9e626a"
   },
   "outputs": [],
   "source": [
    "clf_report = classification_report(\n",
    "    y_test, y_pred_classes, target_names=label_encoder.classes_, output_dict=True\n",
    ")\n",
    "sns.heatmap(pd.DataFrame(clf_report).iloc[:-1, :].T, annot=True)"
   ]
  },
  {
   "cell_type": "code",
   "execution_count": null,
   "metadata": {
    "colab": {
     "base_uri": "https://localhost:8080/",
     "height": 466
    },
    "executionInfo": {
     "elapsed": 273,
     "status": "ok",
     "timestamp": 1739190593336,
     "user": {
      "displayName": "Vitaliy Chernysh",
      "userId": "02948826804726110807"
     },
     "user_tz": -60
    },
    "id": "bsjdItYFRGxv",
    "outputId": "6addd9db-c9bf-4d78-b95e-83cd3b1808d1"
   },
   "outputs": [],
   "source": [
    "ConfusionMatrixDisplay.from_predictions(\n",
    "    y_test, y_pred_classes, display_labels=label_encoder.classes_\n",
    ")"
   ]
  },
  {
   "cell_type": "markdown",
   "metadata": {
    "id": "pJvuDzzvR6OQ"
   },
   "source": [
    "# Saving model"
   ]
  },
  {
   "cell_type": "code",
   "execution_count": null,
   "metadata": {
    "id": "DTeBClIwR7Xp"
   },
   "outputs": [],
   "source": [
    "torch.save(model.state_dict(), \"sentiment-dnn.pt\")"
   ]
  }
 ],
 "metadata": {
  "colab": {
   "authorship_tag": "ABX9TyP6l/XkAAwbbZsr+utSEzLr",
   "mount_file_id": "1MmZjMp0i-xiDq9phXBxanCPoAhlrSn6E",
   "provenance": []
  },
  "kernelspec": {
   "display_name": "Python 3 (ipykernel)",
   "language": "python",
   "name": "python3"
  },
  "language_info": {
   "codemirror_mode": {
    "name": "ipython",
    "version": 3
   },
   "file_extension": ".py",
   "mimetype": "text/x-python",
   "name": "python",
   "nbconvert_exporter": "python",
   "pygments_lexer": "ipython3",
   "version": "3.11.11"
  }
 },
 "nbformat": 4,
 "nbformat_minor": 4
}
